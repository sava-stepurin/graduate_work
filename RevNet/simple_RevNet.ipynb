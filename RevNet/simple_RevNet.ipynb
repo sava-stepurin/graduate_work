{
 "cells": [
  {
   "cell_type": "code",
   "execution_count": 57,
   "metadata": {},
   "outputs": [],
   "source": [
    "import tensorflow as tf\n",
    "keras, L = tf.keras, tf.keras.layers\n",
    "\n",
    "import matplotlib.pyplot as plt\n",
    "import numpy as np\n",
    "\n",
    "from sklearn.datasets import fetch_openml\n",
    "from sklearn.model_selection import train_test_split\n",
    "\n",
    "from skimage.transform import resize"
   ]
  },
  {
   "cell_type": "code",
   "execution_count": 83,
   "metadata": {},
   "outputs": [],
   "source": [
    "X, y = fetch_openml('mnist_784', version=1, return_X_y=True)"
   ]
  },
  {
   "cell_type": "code",
   "execution_count": 84,
   "metadata": {},
   "outputs": [
    {
     "data": {
      "image/png": "[encoded data removed]",
      "text/plain": [
       "<Figure size 432x288 with 1 Axes>"
      ]
     },
     "metadata": {
      "needs_background": "light"
     },
     "output_type": "display_data"
    },
    {
     "data": {
      "image/png": "[encoded data removed]",
      "text/plain": [
       "<Figure size 432x288 with 1 Axes>"
      ]
     },
     "metadata": {
      "needs_background": "light"
     },
     "output_type": "display_data"
    },
    {
     "data": {
      "image/png": "[encoded data removed]",
      "text/plain": [
       "<Figure size 432x288 with 1 Axes>"
      ]
     },
     "metadata": {
      "needs_background": "light"
     },
     "output_type": "display_data"
    },
    {
     "data": {
      "image/png": "[encoded data removed]",
      "text/plain": [
       "<Figure size 432x288 with 1 Axes>"
      ]
     },
     "metadata": {
      "needs_background": "light"
     },
     "output_type": "display_data"
    },
    {
     "data": {
      "image/png": "[encoded data removed]",
      "text/plain": [
       "<Figure size 432x288 with 1 Axes>"
      ]
     },
     "metadata": {
      "needs_background": "light"
     },
     "output_type": "display_data"
    }
   ],
   "source": [
    "for i in range(5):\n",
    "    plt.imshow(np.reshape(X[i], (28, 28)), cmap=plt.cm.gray_r)\n",
    "    plt.show()"
   ]
  },
  {
   "cell_type": "code",
   "execution_count": 85,
   "metadata": {},
   "outputs": [],
   "source": [
    "train_samples = 5000\n",
    "test_samples = 1000\n",
    "X_train, X_test, y_train, y_test = train_test_split(X, y, \n",
    "                                                    train_size=train_samples, test_size=test_samples, \n",
    "                                                    random_state=42)\n",
    "del X, y"
   ]
  },
  {
   "cell_type": "code",
   "execution_count": 86,
   "metadata": {},
   "outputs": [],
   "source": [
    "X_train = np.reshape(X_train, (X_train.shape[0], 28, 28))\n",
    "X_train = np.stack([X_train]*3, axis=-1)\n",
    "y_train = y_train.astype(int)\n",
    "\n",
    "X_test = np.reshape(X_test, (X_test.shape[0], 28, 28))\n",
    "X_test = np.stack([X_test]*3, axis=-1)\n",
    "y_test = y_test.astype(int)"
   ]
  },
  {
   "cell_type": "code",
   "execution_count": 87,
   "metadata": {},
   "outputs": [],
   "source": [
    "def resize_image(img):\n",
    "    img = resize(img, (32, 32), mode='reflect')\n",
    "    return img"
   ]
  },
  {
   "cell_type": "code",
   "execution_count": 88,
   "metadata": {},
   "outputs": [],
   "source": [
    "X_train = np.array(list(map(resize_image, X_train)))\n",
    "X_test = np.array(list(map(resize_image, X_test)))"
   ]
  },
  {
   "cell_type": "code",
   "execution_count": 122,
   "metadata": {},
   "outputs": [],
   "source": [
    "def init_block(x, filters, kernel_size):\n",
    "    x = L.Conv2D(filters=filters, kernel_size=kernel_size, \n",
    "                 input_shape=input_shape, padding=\"SAME\")(x)\n",
    "    return x"
   ]
  },
  {
   "cell_type": "code",
   "execution_count": 133,
   "metadata": {},
   "outputs": [],
   "source": [
    "def f(x, filters):\n",
    "    x = L.BatchNormalization(axis=3)(x)\n",
    "    x = L.Activation(\"relu\")(x)\n",
    "    x = L.Conv2D(filters=filters, kernel_size=3, padding=\"SAME\")(x)\n",
    "    x = L.BatchNormalization(axis=3)(x)\n",
    "    x = L.Activation(\"relu\")(x)\n",
    "    x = L.Conv2D(filters=filters, kernel_size=3, padding=\"SAME\")(x)\n",
    "    \n",
    "    return x\n",
    "\n",
    "def rev_block(x, filters):\n",
    "    x1, x2 = tf.split(x, num_or_size_splits=2, axis=3)\n",
    "    y1 = f(x2, filters // 2) + x1\n",
    "    y2 = f(y1, filters // 2) + x2\n",
    "\n",
    "    return tf.concat([y1, y2], axis=3)"
   ]
  },
  {
   "cell_type": "markdown",
   "metadata": {},
   "source": [
    "Модель с Reversible блоком, но в конце которой находятся Dense слои:"
   ]
  },
  {
   "cell_type": "code",
   "execution_count": 134,
   "metadata": {},
   "outputs": [],
   "source": [
    "input_shape = X_train.shape[1:]\n",
    "filters = 32\n",
    "init_kernel = 5\n",
    "n_rev_blocks = 1\n",
    "n_classes = 10\n",
    "\n",
    "img_input = L.Input(input_shape)\n",
    "x = init_block(img_input, filters, init_kernel)\n",
    "for _ in range(n_rev_blocks):\n",
    "    x = rev_block(x, filters)\n",
    "x = L.Flatten()(x)\n",
    "\n",
    "x = L.Dense(100)(x)\n",
    "x = L.Activation(\"relu\")(x)\n",
    "x = L.Dense(n_classes)(x)\n",
    "x = L.Activation(\"softmax\")(x)\n",
    "\n",
    "model = keras.Model(img_input, x)"
   ]
  },
  {
   "cell_type": "code",
   "execution_count": 135,
   "metadata": {},
   "outputs": [
    {
     "name": "stdout",
     "output_type": "stream",
     "text": [
      "Model: \"model_27\"\n",
      "__________________________________________________________________________________________________\n",
      "Layer (type)                    Output Shape         Param #     Connected to                     \n",
      "==================================================================================================\n",
      "input_35 (InputLayer)           [(None, 32, 32, 3)]  0                                            \n",
      "__________________________________________________________________________________________________\n",
      "conv2d_171 (Conv2D)             (None, 32, 32, 32)   2432        input_35[0][0]                   \n",
      "__________________________________________________________________________________________________\n",
      "tf_op_layer_split_31 (TensorFlo [(None, 32, 32, 16), 0           conv2d_171[0][0]                 \n",
      "__________________________________________________________________________________________________\n",
      "batch_normalization_113 (BatchN (None, 32, 32, 16)   64          tf_op_layer_split_31[0][1]       \n",
      "__________________________________________________________________________________________________\n",
      "activation_178 (Activation)     (None, 32, 32, 16)   0           batch_normalization_113[0][0]    \n",
      "__________________________________________________________________________________________________\n",
      "conv2d_172 (Conv2D)             (None, 32, 32, 16)   2320        activation_178[0][0]             \n",
      "__________________________________________________________________________________________________\n",
      "batch_normalization_114 (BatchN (None, 32, 32, 16)   64          conv2d_172[0][0]                 \n",
      "__________________________________________________________________________________________________\n",
      "activation_179 (Activation)     (None, 32, 32, 16)   0           batch_normalization_114[0][0]    \n",
      "__________________________________________________________________________________________________\n",
      "conv2d_173 (Conv2D)             (None, 32, 32, 16)   2320        activation_179[0][0]             \n",
      "__________________________________________________________________________________________________\n",
      "tf_op_layer_add_62 (TensorFlowO [(None, 32, 32, 16)] 0           conv2d_173[0][0]                 \n",
      "                                                                 tf_op_layer_split_31[0][0]       \n",
      "__________________________________________________________________________________________________\n",
      "batch_normalization_115 (BatchN (None, 32, 32, 16)   64          tf_op_layer_add_62[0][0]         \n",
      "__________________________________________________________________________________________________\n",
      "activation_180 (Activation)     (None, 32, 32, 16)   0           batch_normalization_115[0][0]    \n",
      "__________________________________________________________________________________________________\n",
      "conv2d_174 (Conv2D)             (None, 32, 32, 16)   2320        activation_180[0][0]             \n",
      "__________________________________________________________________________________________________\n",
      "batch_normalization_116 (BatchN (None, 32, 32, 16)   64          conv2d_174[0][0]                 \n",
      "__________________________________________________________________________________________________\n",
      "activation_181 (Activation)     (None, 32, 32, 16)   0           batch_normalization_116[0][0]    \n",
      "__________________________________________________________________________________________________\n",
      "conv2d_175 (Conv2D)             (None, 32, 32, 16)   2320        activation_181[0][0]             \n",
      "__________________________________________________________________________________________________\n",
      "tf_op_layer_add_63 (TensorFlowO [(None, 32, 32, 16)] 0           conv2d_175[0][0]                 \n",
      "                                                                 tf_op_layer_split_31[0][1]       \n",
      "__________________________________________________________________________________________________\n",
      "tf_op_layer_concat_31 (TensorFl [(None, 32, 32, 32)] 0           tf_op_layer_add_62[0][0]         \n",
      "                                                                 tf_op_layer_add_63[0][0]         \n",
      "__________________________________________________________________________________________________\n",
      "flatten_30 (Flatten)            (None, 32768)        0           tf_op_layer_concat_31[0][0]      \n",
      "__________________________________________________________________________________________________\n",
      "dense_47 (Dense)                (None, 100)          3276900     flatten_30[0][0]                 \n",
      "__________________________________________________________________________________________________\n",
      "activation_182 (Activation)     (None, 100)          0           dense_47[0][0]                   \n",
      "__________________________________________________________________________________________________\n",
      "dense_48 (Dense)                (None, 10)           1010        activation_182[0][0]             \n",
      "__________________________________________________________________________________________________\n",
      "activation_183 (Activation)     (None, 10)           0           dense_48[0][0]                   \n",
      "==================================================================================================\n",
      "Total params: 3,289,878\n",
      "Trainable params: 3,289,750\n",
      "Non-trainable params: 128\n",
      "__________________________________________________________________________________________________\n"
     ]
    }
   ],
   "source": [
    "model.summary()"
   ]
  },
  {
   "cell_type": "code",
   "execution_count": 136,
   "metadata": {},
   "outputs": [
    {
     "name": "stdout",
     "output_type": "stream",
     "text": [
      "Train on 5000 samples, validate on 1000 samples\n",
      "Epoch 1/20\n",
      "5000/5000 [==============================] - 19s 4ms/sample - loss: 14.6231 - sparse_categorical_accuracy: 0.5372 - val_loss: 1.8448 - val_sparse_categorical_accuracy: 0.4600\n",
      "Epoch 2/20\n",
      "5000/5000 [==============================] - 19s 4ms/sample - loss: 1.5324 - sparse_categorical_accuracy: 0.5168 - val_loss: 1.5437 - val_sparse_categorical_accuracy: 0.5840\n",
      "Epoch 3/20\n",
      "5000/5000 [==============================] - 19s 4ms/sample - loss: 1.3685 - sparse_categorical_accuracy: 0.5866 - val_loss: 1.8652 - val_sparse_categorical_accuracy: 0.5440\n",
      "Epoch 4/20\n",
      "5000/5000 [==============================] - 19s 4ms/sample - loss: 1.2856 - sparse_categorical_accuracy: 0.6038 - val_loss: 1.4918 - val_sparse_categorical_accuracy: 0.6090\n",
      "Epoch 5/20\n",
      "5000/5000 [==============================] - 19s 4ms/sample - loss: 1.2270 - sparse_categorical_accuracy: 0.6170 - val_loss: 1.3585 - val_sparse_categorical_accuracy: 0.6090\n",
      "Epoch 6/20\n",
      "5000/5000 [==============================] - 19s 4ms/sample - loss: 1.1005 - sparse_categorical_accuracy: 0.6518 - val_loss: 1.4101 - val_sparse_categorical_accuracy: 0.6500\n",
      "Epoch 7/20\n",
      "5000/5000 [==============================] - 19s 4ms/sample - loss: 1.0641 - sparse_categorical_accuracy: 0.6448 - val_loss: 1.6358 - val_sparse_categorical_accuracy: 0.6420\n",
      "Epoch 8/20\n",
      "5000/5000 [==============================] - 19s 4ms/sample - loss: 1.0579 - sparse_categorical_accuracy: 0.6636 - val_loss: 1.4486 - val_sparse_categorical_accuracy: 0.6430\n",
      "Epoch 9/20\n",
      "5000/5000 [==============================] - 19s 4ms/sample - loss: 0.8961 - sparse_categorical_accuracy: 0.7252 - val_loss: 1.3798 - val_sparse_categorical_accuracy: 0.7820\n",
      "Epoch 10/20\n",
      "5000/5000 [==============================] - 19s 4ms/sample - loss: 0.9971 - sparse_categorical_accuracy: 0.7114 - val_loss: 1.4761 - val_sparse_categorical_accuracy: 0.5640\n",
      "Epoch 11/20\n",
      "5000/5000 [==============================] - 19s 4ms/sample - loss: 1.1881 - sparse_categorical_accuracy: 0.6786 - val_loss: 1.4163 - val_sparse_categorical_accuracy: 0.5240\n",
      "Epoch 12/20\n",
      "5000/5000 [==============================] - 19s 4ms/sample - loss: 1.0143 - sparse_categorical_accuracy: 0.6744 - val_loss: 1.2201 - val_sparse_categorical_accuracy: 0.6290\n",
      "Epoch 13/20\n",
      "5000/5000 [==============================] - 19s 4ms/sample - loss: 0.8806 - sparse_categorical_accuracy: 0.7278 - val_loss: 1.4096 - val_sparse_categorical_accuracy: 0.6270\n",
      "Epoch 14/20\n",
      "5000/5000 [==============================] - 19s 4ms/sample - loss: 1.1346 - sparse_categorical_accuracy: 0.6804 - val_loss: 1.4977 - val_sparse_categorical_accuracy: 0.7070\n",
      "Epoch 15/20\n",
      "5000/5000 [==============================] - 19s 4ms/sample - loss: 0.9666 - sparse_categorical_accuracy: 0.6954 - val_loss: 1.7452 - val_sparse_categorical_accuracy: 0.7300\n",
      "Epoch 16/20\n",
      "5000/5000 [==============================] - 19s 4ms/sample - loss: 1.0833 - sparse_categorical_accuracy: 0.6910 - val_loss: 1.1730 - val_sparse_categorical_accuracy: 0.6820\n",
      "Epoch 17/20\n",
      "5000/5000 [==============================] - 19s 4ms/sample - loss: 0.9975 - sparse_categorical_accuracy: 0.7118 - val_loss: 1.3201 - val_sparse_categorical_accuracy: 0.6100\n",
      "Epoch 18/20\n",
      "5000/5000 [==============================] - 20s 4ms/sample - loss: 0.9944 - sparse_categorical_accuracy: 0.7020 - val_loss: 1.6591 - val_sparse_categorical_accuracy: 0.6410\n",
      "Epoch 19/20\n",
      "5000/5000 [==============================] - 19s 4ms/sample - loss: 0.8376 - sparse_categorical_accuracy: 0.7296 - val_loss: 1.6576 - val_sparse_categorical_accuracy: 0.7430\n",
      "Epoch 20/20\n",
      "5000/5000 [==============================] - 19s 4ms/sample - loss: 0.7920 - sparse_categorical_accuracy: 0.7696 - val_loss: 1.2250 - val_sparse_categorical_accuracy: 0.7320\n"
     ]
    },
    {
     "data": {
      "text/plain": [
       "<tensorflow.python.keras.callbacks.History at 0x7f73d31cd358>"
      ]
     },
     "execution_count": 136,
     "metadata": {},
     "output_type": "execute_result"
    }
   ],
   "source": [
    "adam = keras.optimizers.Adam()\n",
    "model.compile(optimizer=adam,\n",
    "              loss='sparse_categorical_crossentropy',\n",
    "              metrics=['sparse_categorical_accuracy'])\n",
    "\n",
    "model.fit(X_train, y_train,\n",
    "          batch_size=32, epochs=20, \n",
    "          validation_data=(X_test, y_test))"
   ]
  },
  {
   "cell_type": "markdown",
   "metadata": {},
   "source": [
    "Модель с Reversible блоком, где в конце выбирается 10 чисел из равномерной сетки:"
   ]
  },
  {
   "cell_type": "code",
   "execution_count": 137,
   "metadata": {},
   "outputs": [],
   "source": [
    "input_shape = [32, 32, 3]\n",
    "filters = 32\n",
    "init_kernel = 5\n",
    "n_rev_blocks = 1\n",
    "n_classes = 10\n",
    "\n",
    "img_input = L.Input(input_shape)\n",
    "x = init_block(img_input, filters, init_kernel)\n",
    "for _ in range(n_rev_blocks):\n",
    "    x = rev_block(x, filters)\n",
    "x = L.Flatten()(x)\n",
    "\n",
    "positions = tf.range(0, x.shape[-1], x.shape[-1] // n_classes + 1)\n",
    "x = tf.reshape(tf.convert_to_tensor([x[:, i] for i in positions]), (-1, n_classes))\n",
    "x = L.Activation(\"softmax\")(x)\n",
    "\n",
    "model = keras.Model(img_input, x)"
   ]
  },
  {
   "cell_type": "code",
   "execution_count": 138,
   "metadata": {},
   "outputs": [
    {
     "name": "stdout",
     "output_type": "stream",
     "text": [
      "Model: \"model_28\"\n",
      "__________________________________________________________________________________________________\n",
      "Layer (type)                    Output Shape         Param #     Connected to                     \n",
      "==================================================================================================\n",
      "input_36 (InputLayer)           [(None, 32, 32, 3)]  0                                            \n",
      "__________________________________________________________________________________________________\n",
      "conv2d_176 (Conv2D)             (None, 32, 32, 32)   2432        input_36[0][0]                   \n",
      "__________________________________________________________________________________________________\n",
      "tf_op_layer_split_32 (TensorFlo [(None, 32, 32, 16), 0           conv2d_176[0][0]                 \n",
      "__________________________________________________________________________________________________\n",
      "batch_normalization_117 (BatchN (None, 32, 32, 16)   64          tf_op_layer_split_32[0][1]       \n",
      "__________________________________________________________________________________________________\n",
      "activation_184 (Activation)     (None, 32, 32, 16)   0           batch_normalization_117[0][0]    \n",
      "__________________________________________________________________________________________________\n",
      "conv2d_177 (Conv2D)             (None, 32, 32, 16)   2320        activation_184[0][0]             \n",
      "__________________________________________________________________________________________________\n",
      "batch_normalization_118 (BatchN (None, 32, 32, 16)   64          conv2d_177[0][0]                 \n",
      "__________________________________________________________________________________________________\n",
      "activation_185 (Activation)     (None, 32, 32, 16)   0           batch_normalization_118[0][0]    \n",
      "__________________________________________________________________________________________________\n",
      "conv2d_178 (Conv2D)             (None, 32, 32, 16)   2320        activation_185[0][0]             \n",
      "__________________________________________________________________________________________________\n",
      "tf_op_layer_add_64 (TensorFlowO [(None, 32, 32, 16)] 0           conv2d_178[0][0]                 \n",
      "                                                                 tf_op_layer_split_32[0][0]       \n",
      "__________________________________________________________________________________________________\n",
      "batch_normalization_119 (BatchN (None, 32, 32, 16)   64          tf_op_layer_add_64[0][0]         \n",
      "__________________________________________________________________________________________________\n",
      "activation_186 (Activation)     (None, 32, 32, 16)   0           batch_normalization_119[0][0]    \n",
      "__________________________________________________________________________________________________\n",
      "conv2d_179 (Conv2D)             (None, 32, 32, 16)   2320        activation_186[0][0]             \n",
      "__________________________________________________________________________________________________\n",
      "batch_normalization_120 (BatchN (None, 32, 32, 16)   64          conv2d_179[0][0]                 \n",
      "__________________________________________________________________________________________________\n",
      "activation_187 (Activation)     (None, 32, 32, 16)   0           batch_normalization_120[0][0]    \n",
      "__________________________________________________________________________________________________\n",
      "conv2d_180 (Conv2D)             (None, 32, 32, 16)   2320        activation_187[0][0]             \n",
      "__________________________________________________________________________________________________\n",
      "tf_op_layer_add_65 (TensorFlowO [(None, 32, 32, 16)] 0           conv2d_180[0][0]                 \n",
      "                                                                 tf_op_layer_split_32[0][1]       \n",
      "__________________________________________________________________________________________________\n",
      "tf_op_layer_concat_32 (TensorFl [(None, 32, 32, 32)] 0           tf_op_layer_add_64[0][0]         \n",
      "                                                                 tf_op_layer_add_65[0][0]         \n",
      "__________________________________________________________________________________________________\n",
      "flatten_31 (Flatten)            (None, 32768)        0           tf_op_layer_concat_32[0][0]      \n",
      "__________________________________________________________________________________________________\n",
      "tf_op_layer_strided_slice_60 (T [(None,)]            0           flatten_31[0][0]                 \n",
      "__________________________________________________________________________________________________\n",
      "tf_op_layer_strided_slice_61 (T [(None,)]            0           flatten_31[0][0]                 \n",
      "__________________________________________________________________________________________________\n",
      "tf_op_layer_strided_slice_62 (T [(None,)]            0           flatten_31[0][0]                 \n",
      "__________________________________________________________________________________________________\n",
      "tf_op_layer_strided_slice_63 (T [(None,)]            0           flatten_31[0][0]                 \n",
      "__________________________________________________________________________________________________\n",
      "tf_op_layer_strided_slice_64 (T [(None,)]            0           flatten_31[0][0]                 \n",
      "__________________________________________________________________________________________________\n",
      "tf_op_layer_strided_slice_65 (T [(None,)]            0           flatten_31[0][0]                 \n",
      "__________________________________________________________________________________________________\n",
      "tf_op_layer_strided_slice_66 (T [(None,)]            0           flatten_31[0][0]                 \n",
      "__________________________________________________________________________________________________\n",
      "tf_op_layer_strided_slice_67 (T [(None,)]            0           flatten_31[0][0]                 \n",
      "__________________________________________________________________________________________________\n",
      "tf_op_layer_strided_slice_68 (T [(None,)]            0           flatten_31[0][0]                 \n",
      "__________________________________________________________________________________________________\n",
      "tf_op_layer_strided_slice_69 (T [(None,)]            0           flatten_31[0][0]                 \n",
      "__________________________________________________________________________________________________\n",
      "tf_op_layer_packed_6 (TensorFlo [(10, None)]         0           tf_op_layer_strided_slice_60[0][0\n",
      "                                                                 tf_op_layer_strided_slice_61[0][0\n",
      "                                                                 tf_op_layer_strided_slice_62[0][0\n",
      "                                                                 tf_op_layer_strided_slice_63[0][0\n",
      "                                                                 tf_op_layer_strided_slice_64[0][0\n",
      "                                                                 tf_op_layer_strided_slice_65[0][0\n",
      "                                                                 tf_op_layer_strided_slice_66[0][0\n",
      "                                                                 tf_op_layer_strided_slice_67[0][0\n",
      "                                                                 tf_op_layer_strided_slice_68[0][0\n",
      "                                                                 tf_op_layer_strided_slice_69[0][0\n",
      "__________________________________________________________________________________________________\n",
      "tf_op_layer_Reshape_5 (TensorFl [(None, 10)]         0           tf_op_layer_packed_6[0][0]       \n",
      "__________________________________________________________________________________________________\n",
      "activation_188 (Activation)     (None, 10)           0           tf_op_layer_Reshape_5[0][0]      \n",
      "==================================================================================================\n",
      "Total params: 11,968\n",
      "Trainable params: 11,840\n",
      "Non-trainable params: 128\n",
      "__________________________________________________________________________________________________\n"
     ]
    }
   ],
   "source": [
    "model.summary()"
   ]
  },
  {
   "cell_type": "code",
   "execution_count": 139,
   "metadata": {},
   "outputs": [
    {
     "name": "stdout",
     "output_type": "stream",
     "text": [
      "Train on 5000 samples, validate on 1000 samples\n",
      "Epoch 1/20\n",
      "5000/5000 [==============================] - 17s 3ms/sample - loss: 7.3143 - sparse_categorical_accuracy: 0.0954 - val_loss: 4.7881 - val_sparse_categorical_accuracy: 0.0900\n",
      "Epoch 2/20\n",
      "5000/5000 [==============================] - 17s 3ms/sample - loss: 3.7155 - sparse_categorical_accuracy: 0.0976 - val_loss: 3.1764 - val_sparse_categorical_accuracy: 0.1040\n",
      "Epoch 3/20\n",
      "5000/5000 [==============================] - 18s 4ms/sample - loss: 3.3309 - sparse_categorical_accuracy: 0.1020 - val_loss: 3.0276 - val_sparse_categorical_accuracy: 0.1180\n",
      "Epoch 4/20\n",
      "5000/5000 [==============================] - 18s 4ms/sample - loss: 3.1780 - sparse_categorical_accuracy: 0.1004 - val_loss: 2.9744 - val_sparse_categorical_accuracy: 0.1010\n",
      "Epoch 5/20\n",
      "5000/5000 [==============================] - 17s 3ms/sample - loss: 3.0422 - sparse_categorical_accuracy: 0.1030 - val_loss: 2.9319 - val_sparse_categorical_accuracy: 0.1110\n",
      "Epoch 6/20\n",
      "5000/5000 [==============================] - 17s 3ms/sample - loss: 3.0724 - sparse_categorical_accuracy: 0.0922 - val_loss: 2.8511 - val_sparse_categorical_accuracy: 0.0980\n",
      "Epoch 7/20\n",
      "5000/5000 [==============================] - 18s 4ms/sample - loss: 2.9675 - sparse_categorical_accuracy: 0.1068 - val_loss: 2.8645 - val_sparse_categorical_accuracy: 0.1060\n",
      "Epoch 8/20\n",
      "5000/5000 [==============================] - 18s 4ms/sample - loss: 3.0802 - sparse_categorical_accuracy: 0.0974 - val_loss: 2.9740 - val_sparse_categorical_accuracy: 0.1070\n",
      "Epoch 9/20\n",
      "5000/5000 [==============================] - 18s 4ms/sample - loss: 2.8835 - sparse_categorical_accuracy: 0.0966 - val_loss: 2.9091 - val_sparse_categorical_accuracy: 0.0980\n",
      "Epoch 10/20\n",
      "5000/5000 [==============================] - 18s 4ms/sample - loss: 2.8490 - sparse_categorical_accuracy: 0.0902 - val_loss: 2.9523 - val_sparse_categorical_accuracy: 0.0920\n",
      "Epoch 11/20\n",
      "5000/5000 [==============================] - 18s 4ms/sample - loss: 3.0112 - sparse_categorical_accuracy: 0.1000 - val_loss: 3.0095 - val_sparse_categorical_accuracy: 0.1010\n",
      "Epoch 12/20\n",
      "5000/5000 [==============================] - 18s 4ms/sample - loss: 2.8641 - sparse_categorical_accuracy: 0.0984 - val_loss: 3.1481 - val_sparse_categorical_accuracy: 0.1140\n",
      "Epoch 13/20\n",
      "5000/5000 [==============================] - 18s 4ms/sample - loss: 2.9195 - sparse_categorical_accuracy: 0.0956 - val_loss: 3.1200 - val_sparse_categorical_accuracy: 0.0890\n",
      "Epoch 14/20\n",
      "5000/5000 [==============================] - 18s 4ms/sample - loss: 3.0082 - sparse_categorical_accuracy: 0.0968 - val_loss: 3.0351 - val_sparse_categorical_accuracy: 0.1090\n",
      "Epoch 15/20\n",
      "5000/5000 [==============================] - 18s 4ms/sample - loss: 2.9143 - sparse_categorical_accuracy: 0.0960 - val_loss: 2.9897 - val_sparse_categorical_accuracy: 0.1020\n",
      "Epoch 16/20\n",
      "5000/5000 [==============================] - 18s 4ms/sample - loss: 2.9588 - sparse_categorical_accuracy: 0.0960 - val_loss: 2.8221 - val_sparse_categorical_accuracy: 0.1050\n",
      "Epoch 17/20\n",
      "5000/5000 [==============================] - 18s 4ms/sample - loss: 2.8832 - sparse_categorical_accuracy: 0.0970 - val_loss: 2.8053 - val_sparse_categorical_accuracy: 0.1030\n",
      "Epoch 18/20\n",
      "5000/5000 [==============================] - 18s 4ms/sample - loss: 2.8707 - sparse_categorical_accuracy: 0.1056 - val_loss: 2.8783 - val_sparse_categorical_accuracy: 0.0980\n",
      "Epoch 19/20\n",
      "5000/5000 [==============================] - 18s 4ms/sample - loss: 2.8517 - sparse_categorical_accuracy: 0.1038 - val_loss: 2.7613 - val_sparse_categorical_accuracy: 0.0940\n",
      "Epoch 20/20\n",
      "5000/5000 [==============================] - 18s 4ms/sample - loss: 2.8346 - sparse_categorical_accuracy: 0.1036 - val_loss: 3.0218 - val_sparse_categorical_accuracy: 0.0970\n"
     ]
    },
    {
     "data": {
      "text/plain": [
       "<tensorflow.python.keras.callbacks.History at 0x7f73d5db6898>"
      ]
     },
     "execution_count": 139,
     "metadata": {},
     "output_type": "execute_result"
    }
   ],
   "source": [
    "adam = keras.optimizers.Adam()\n",
    "model.compile(optimizer=adam,\n",
    "              loss='sparse_categorical_crossentropy',\n",
    "              metrics=['sparse_categorical_accuracy'])\n",
    "\n",
    "model.fit(X_train, y_train,\n",
    "          batch_size=32, epochs=20, \n",
    "          validation_data=(X_test, y_test))"
   ]
  }
 ],
 "metadata": {
  "kernelspec": {
   "display_name": "Python 3",
   "language": "python",
   "name": "python3"
  },
  "language_info": {
   "codemirror_mode": {
    "name": "ipython",
    "version": 3
   },
   "file_extension": ".py",
   "mimetype": "text/x-python",
   "name": "python",
   "nbconvert_exporter": "python",
   "pygments_lexer": "ipython3",
   "version": "3.6.8"
  }
 },
 "nbformat": 4,
 "nbformat_minor": 2
}
