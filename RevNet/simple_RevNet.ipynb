{
  "nbformat": 4,
  "nbformat_minor": 0,
  "metadata": {
    "kernelspec": {
      "name": "python3",
      "display_name": "Python 3"
    },
    "language_info": {
      "codemirror_mode": {
        "name": "ipython",
        "version": 3
      },
      "file_extension": ".py",
      "mimetype": "text/x-python",
      "name": "python",
      "nbconvert_exporter": "python",
      "pygments_lexer": "ipython3",
      "version": "3.6.8"
    },
    "colab": {
      "name": "simple_RevNet.ipynb",
      "provenance": [],
      "collapsed_sections": []
    },
    "accelerator": "GPU"
  },
  "cells": [
    {
      "cell_type": "code",
      "metadata": {
        "id": "NTsQzNug-qez",
        "colab_type": "code",
        "colab": {}
      },
      "source": [
        "import tensorflow as tf\n",
        "keras, L = tf.keras, tf.keras.layers\n",
        "\n",
        "import matplotlib.pyplot as plt\n",
        "import numpy as np\n",
        "\n",
        "from skimage.transform import resize\n",
        "from sklearn.datasets import fetch_openml\n",
        "from sklearn.model_selection import train_test_split"
      ],
      "execution_count": 0,
      "outputs": []
    },
    {
      "cell_type": "code",
      "metadata": {
        "id": "VGE2OB-Y-7mM",
        "colab_type": "code",
        "outputId": "e1c29ce2-40d6-48bd-c238-68a0c43745bf",
        "colab": {
          "base_uri": "https://localhost:8080/",
          "height": 615
        }
      },
      "source": [
        "!pip3 install tensorflow-gpu==2.0.0"
      ],
      "execution_count": 1,
      "outputs": [
        {
          "output_type": "stream",
          "text": [
            "Requirement already satisfied: tensorflow-gpu==2.0.0 in /usr/local/lib/python3.6/dist-packages (2.0.0)\n",
            "Requirement already satisfied: opt-einsum>=2.3.2 in /usr/local/lib/python3.6/dist-packages (from tensorflow-gpu==2.0.0) (3.1.0)\n",
            "Requirement already satisfied: absl-py>=0.7.0 in /usr/local/lib/python3.6/dist-packages (from tensorflow-gpu==2.0.0) (0.9.0)\n",
            "Requirement already satisfied: six>=1.10.0 in /usr/local/lib/python3.6/dist-packages (from tensorflow-gpu==2.0.0) (1.12.0)\n",
            "Requirement already satisfied: gast==0.2.2 in /usr/local/lib/python3.6/dist-packages (from tensorflow-gpu==2.0.0) (0.2.2)\n",
            "Requirement already satisfied: grpcio>=1.8.6 in /usr/local/lib/python3.6/dist-packages (from tensorflow-gpu==2.0.0) (1.15.0)\n",
            "Requirement already satisfied: wrapt>=1.11.1 in /usr/local/lib/python3.6/dist-packages (from tensorflow-gpu==2.0.0) (1.11.2)\n",
            "Requirement already satisfied: tensorboard<2.1.0,>=2.0.0 in /usr/local/lib/python3.6/dist-packages (from tensorflow-gpu==2.0.0) (2.0.2)\n",
            "Requirement already satisfied: tensorflow-estimator<2.1.0,>=2.0.0 in /usr/local/lib/python3.6/dist-packages (from tensorflow-gpu==2.0.0) (2.0.1)\n",
            "Requirement already satisfied: protobuf>=3.6.1 in /usr/local/lib/python3.6/dist-packages (from tensorflow-gpu==2.0.0) (3.10.0)\n",
            "Requirement already satisfied: termcolor>=1.1.0 in /usr/local/lib/python3.6/dist-packages (from tensorflow-gpu==2.0.0) (1.1.0)\n",
            "Requirement already satisfied: wheel>=0.26 in /usr/local/lib/python3.6/dist-packages (from tensorflow-gpu==2.0.0) (0.34.2)\n",
            "Requirement already satisfied: google-pasta>=0.1.6 in /usr/local/lib/python3.6/dist-packages (from tensorflow-gpu==2.0.0) (0.1.8)\n",
            "Requirement already satisfied: keras-applications>=1.0.8 in /usr/local/lib/python3.6/dist-packages (from tensorflow-gpu==2.0.0) (1.0.8)\n",
            "Requirement already satisfied: numpy<2.0,>=1.16.0 in /usr/local/lib/python3.6/dist-packages (from tensorflow-gpu==2.0.0) (1.17.5)\n",
            "Requirement already satisfied: keras-preprocessing>=1.0.5 in /usr/local/lib/python3.6/dist-packages (from tensorflow-gpu==2.0.0) (1.1.0)\n",
            "Requirement already satisfied: astor>=0.6.0 in /usr/local/lib/python3.6/dist-packages (from tensorflow-gpu==2.0.0) (0.8.1)\n",
            "Requirement already satisfied: setuptools>=41.0.0 in /usr/local/lib/python3.6/dist-packages (from tensorboard<2.1.0,>=2.0.0->tensorflow-gpu==2.0.0) (45.1.0)\n",
            "Requirement already satisfied: markdown>=2.6.8 in /usr/local/lib/python3.6/dist-packages (from tensorboard<2.1.0,>=2.0.0->tensorflow-gpu==2.0.0) (3.1.1)\n",
            "Requirement already satisfied: requests<3,>=2.21.0 in /usr/local/lib/python3.6/dist-packages (from tensorboard<2.1.0,>=2.0.0->tensorflow-gpu==2.0.0) (2.21.0)\n",
            "Requirement already satisfied: google-auth<2,>=1.6.3 in /usr/local/lib/python3.6/dist-packages (from tensorboard<2.1.0,>=2.0.0->tensorflow-gpu==2.0.0) (1.11.0)\n",
            "Requirement already satisfied: google-auth-oauthlib<0.5,>=0.4.1 in /usr/local/lib/python3.6/dist-packages (from tensorboard<2.1.0,>=2.0.0->tensorflow-gpu==2.0.0) (0.4.1)\n",
            "Requirement already satisfied: werkzeug>=0.11.15 in /usr/local/lib/python3.6/dist-packages (from tensorboard<2.1.0,>=2.0.0->tensorflow-gpu==2.0.0) (0.16.1)\n",
            "Requirement already satisfied: h5py in /usr/local/lib/python3.6/dist-packages (from keras-applications>=1.0.8->tensorflow-gpu==2.0.0) (2.8.0)\n",
            "Requirement already satisfied: idna<2.9,>=2.5 in /usr/local/lib/python3.6/dist-packages (from requests<3,>=2.21.0->tensorboard<2.1.0,>=2.0.0->tensorflow-gpu==2.0.0) (2.8)\n",
            "Requirement already satisfied: chardet<3.1.0,>=3.0.2 in /usr/local/lib/python3.6/dist-packages (from requests<3,>=2.21.0->tensorboard<2.1.0,>=2.0.0->tensorflow-gpu==2.0.0) (3.0.4)\n",
            "Requirement already satisfied: certifi>=2017.4.17 in /usr/local/lib/python3.6/dist-packages (from requests<3,>=2.21.0->tensorboard<2.1.0,>=2.0.0->tensorflow-gpu==2.0.0) (2019.11.28)\n",
            "Requirement already satisfied: urllib3<1.25,>=1.21.1 in /usr/local/lib/python3.6/dist-packages (from requests<3,>=2.21.0->tensorboard<2.1.0,>=2.0.0->tensorflow-gpu==2.0.0) (1.24.3)\n",
            "Requirement already satisfied: pyasn1-modules>=0.2.1 in /usr/local/lib/python3.6/dist-packages (from google-auth<2,>=1.6.3->tensorboard<2.1.0,>=2.0.0->tensorflow-gpu==2.0.0) (0.2.8)\n",
            "Requirement already satisfied: cachetools<5.0,>=2.0.0 in /usr/local/lib/python3.6/dist-packages (from google-auth<2,>=1.6.3->tensorboard<2.1.0,>=2.0.0->tensorflow-gpu==2.0.0) (4.0.0)\n",
            "Requirement already satisfied: rsa<4.1,>=3.1.4 in /usr/local/lib/python3.6/dist-packages (from google-auth<2,>=1.6.3->tensorboard<2.1.0,>=2.0.0->tensorflow-gpu==2.0.0) (4.0)\n",
            "Requirement already satisfied: requests-oauthlib>=0.7.0 in /usr/local/lib/python3.6/dist-packages (from google-auth-oauthlib<0.5,>=0.4.1->tensorboard<2.1.0,>=2.0.0->tensorflow-gpu==2.0.0) (1.3.0)\n",
            "Requirement already satisfied: pyasn1<0.5.0,>=0.4.6 in /usr/local/lib/python3.6/dist-packages (from pyasn1-modules>=0.2.1->google-auth<2,>=1.6.3->tensorboard<2.1.0,>=2.0.0->tensorflow-gpu==2.0.0) (0.4.8)\n",
            "Requirement already satisfied: oauthlib>=3.0.0 in /usr/local/lib/python3.6/dist-packages (from requests-oauthlib>=0.7.0->google-auth-oauthlib<0.5,>=0.4.1->tensorboard<2.1.0,>=2.0.0->tensorflow-gpu==2.0.0) (3.1.0)\n"
          ],
          "name": "stdout"
        }
      ]
    },
    {
      "cell_type": "code",
      "metadata": {
        "id": "P_953Uyg-qe6",
        "colab_type": "code",
        "colab": {}
      },
      "source": [
        "X, y = fetch_openml('mnist_784', version=1, return_X_y=True)"
      ],
      "execution_count": 0,
      "outputs": []
    },
    {
      "cell_type": "code",
      "metadata": {
        "id": "KYdanPIT-qe-",
        "colab_type": "code",
        "outputId": "260257ef-4bed-4468-ccf0-21f9a6d6a3b7",
        "colab": {
          "base_uri": "https://localhost:8080/",
          "height": 1000
        }
      },
      "source": [
        "for i in range(5):\n",
        "    plt.imshow(np.reshape(X[i], (28, 28)), cmap=plt.cm.gray_r)\n",
        "    plt.show()"
      ],
      "execution_count": 4,
      "outputs": [
        {
          "output_type": "display_data",
          "data": {
            "image/png": "[encoded data removed]",
            "text/plain": [
              "<Figure size 432x288 with 1 Axes>"
            ]
          },
          "metadata": {
            "tags": []
          }
        },
        {
          "output_type": "display_data",
          "data": {
            "image/png": "[encoded data removed]",
            "text/plain": [
              "<Figure size 432x288 with 1 Axes>"
            ]
          },
          "metadata": {
            "tags": []
          }
        },
        {
          "output_type": "display_data",
          "data": {
            "image/png": "[encoded data removed]",
            "text/plain": [
              "<Figure size 432x288 with 1 Axes>"
            ]
          },
          "metadata": {
            "tags": []
          }
        },
        {
          "output_type": "display_data",
          "data": {
            "image/png": "[encoded data removed]",
            "text/plain": [
              "<Figure size 432x288 with 1 Axes>"
            ]
          },
          "metadata": {
            "tags": []
          }
        },
        {
          "output_type": "display_data",
          "data": {
            "image/png": "[encoded data removed]",
            "text/plain": [
              "<Figure size 432x288 with 1 Axes>"
            ]
          },
          "metadata": {
            "tags": []
          }
        }
      ]
    },
    {
      "cell_type": "code",
      "metadata": {
        "id": "eXaDdg_H-qfE",
        "colab_type": "code",
        "colab": {}
      },
      "source": [
        "X_train, X_test, y_train, y_test = train_test_split(X, y, random_state=42)\n",
        "del X, y"
      ],
      "execution_count": 0,
      "outputs": []
    },
    {
      "cell_type": "code",
      "metadata": {
        "id": "evK9PsnJ-qfJ",
        "colab_type": "code",
        "colab": {}
      },
      "source": [
        "X_train = np.reshape(X_train, (X_train.shape[0], 28, 28))\n",
        "X_train = np.stack([X_train]*3, axis=-1)\n",
        "y_train = y_train.astype(int)\n",
        "\n",
        "X_test = np.reshape(X_test, (X_test.shape[0], 28, 28))\n",
        "X_test = np.stack([X_test]*3, axis=-1)\n",
        "y_test = y_test.astype(int)"
      ],
      "execution_count": 0,
      "outputs": []
    },
    {
      "cell_type": "code",
      "metadata": {
        "id": "LjKDlb0x-qfa",
        "colab_type": "code",
        "colab": {}
      },
      "source": [
        "def init_block(x, filters):\n",
        "    x = L.Conv2D(filters=filters, kernel_size=1, \n",
        "                 input_shape=input_shape, padding=\"SAME\")(x)\n",
        "    return x"
      ],
      "execution_count": 0,
      "outputs": []
    },
    {
      "cell_type": "code",
      "metadata": {
        "id": "OoWXxarE-qfe",
        "colab_type": "code",
        "colab": {}
      },
      "source": [
        "def f(x, filters):\n",
        "    x = L.BatchNormalization(axis=3)(x)\n",
        "    x = L.Activation(\"relu\")(x)\n",
        "    x = L.Conv2D(filters=filters, kernel_size=3, padding=\"SAME\")(x)\n",
        "    x = L.BatchNormalization(axis=3)(x)\n",
        "    x = L.Activation(\"relu\")(x)\n",
        "    x = L.Conv2D(filters=filters, kernel_size=3, padding=\"SAME\")(x)\n",
        "    \n",
        "    return x\n",
        "\n",
        "def rev_block(x, filters):\n",
        "    x1, x2 = tf.split(x, num_or_size_splits=2, axis=3)\n",
        "    y1 = f(x2, filters // 2) + x1\n",
        "    y2 = f(y1, filters // 2) + x2\n",
        "\n",
        "    return tf.concat([y1, y2], axis=3)"
      ],
      "execution_count": 0,
      "outputs": []
    },
    {
      "cell_type": "markdown",
      "metadata": {
        "id": "HcB0-STX-qfi",
        "colab_type": "text"
      },
      "source": [
        "**Модель с Reversible блоком, но в конце которой находятся Dense слои:**"
      ]
    },
    {
      "cell_type": "code",
      "metadata": {
        "id": "EJJms__u-qfj",
        "colab_type": "code",
        "colab": {}
      },
      "source": [
        "input_shape = X_train.shape[1:]\n",
        "filters = 32\n",
        "n_rev_blocks = 1\n",
        "n_classes = 10\n",
        "\n",
        "def build_model():\n",
        "    img_input = L.Input(input_shape)\n",
        "    x = init_block(img_input, filters)\n",
        "    for _ in range(n_rev_blocks):\n",
        "        x = rev_block(x, filters)\n",
        "    x = L.Flatten()(x)\n",
        "\n",
        "    x = L.Dense(100)(x)\n",
        "    x = L.Activation(\"relu\")(x)\n",
        "    x = L.Dense(n_classes)(x)\n",
        "    x = L.Activation(\"softmax\")(x)\n",
        "\n",
        "    model = keras.Model(img_input, x)\n",
        "\n",
        "    return model"
      ],
      "execution_count": 0,
      "outputs": []
    },
    {
      "cell_type": "code",
      "metadata": {
        "id": "-G3dac-P-qfn",
        "colab_type": "code",
        "outputId": "f5e8e3c9-f6db-49ac-b6bc-a9393dead695",
        "colab": {
          "base_uri": "https://localhost:8080/",
          "height": 986
        }
      },
      "source": [
        "model = build_model()\n",
        "model.summary()"
      ],
      "execution_count": 18,
      "outputs": [
        {
          "output_type": "stream",
          "text": [
            "Model: \"model_4\"\n",
            "__________________________________________________________________________________________________\n",
            "Layer (type)                    Output Shape         Param #     Connected to                     \n",
            "==================================================================================================\n",
            "input_5 (InputLayer)            [(None, 28, 28, 3)]  0                                            \n",
            "__________________________________________________________________________________________________\n",
            "conv2d_20 (Conv2D)              (None, 28, 28, 32)   128         input_5[0][0]                    \n",
            "__________________________________________________________________________________________________\n",
            "tf_op_layer_split_4 (TensorFlow [(None, 28, 28, 16), 0           conv2d_20[0][0]                  \n",
            "__________________________________________________________________________________________________\n",
            "batch_normalization_16 (BatchNo (None, 28, 28, 16)   64          tf_op_layer_split_4[0][1]        \n",
            "__________________________________________________________________________________________________\n",
            "activation_22 (Activation)      (None, 28, 28, 16)   0           batch_normalization_16[0][0]     \n",
            "__________________________________________________________________________________________________\n",
            "conv2d_21 (Conv2D)              (None, 28, 28, 16)   2320        activation_22[0][0]              \n",
            "__________________________________________________________________________________________________\n",
            "batch_normalization_17 (BatchNo (None, 28, 28, 16)   64          conv2d_21[0][0]                  \n",
            "__________________________________________________________________________________________________\n",
            "activation_23 (Activation)      (None, 28, 28, 16)   0           batch_normalization_17[0][0]     \n",
            "__________________________________________________________________________________________________\n",
            "conv2d_22 (Conv2D)              (None, 28, 28, 16)   2320        activation_23[0][0]              \n",
            "__________________________________________________________________________________________________\n",
            "tf_op_layer_add_8 (TensorFlowOp [(None, 28, 28, 16)] 0           conv2d_22[0][0]                  \n",
            "                                                                 tf_op_layer_split_4[0][0]        \n",
            "__________________________________________________________________________________________________\n",
            "batch_normalization_18 (BatchNo (None, 28, 28, 16)   64          tf_op_layer_add_8[0][0]          \n",
            "__________________________________________________________________________________________________\n",
            "activation_24 (Activation)      (None, 28, 28, 16)   0           batch_normalization_18[0][0]     \n",
            "__________________________________________________________________________________________________\n",
            "conv2d_23 (Conv2D)              (None, 28, 28, 16)   2320        activation_24[0][0]              \n",
            "__________________________________________________________________________________________________\n",
            "batch_normalization_19 (BatchNo (None, 28, 28, 16)   64          conv2d_23[0][0]                  \n",
            "__________________________________________________________________________________________________\n",
            "activation_25 (Activation)      (None, 28, 28, 16)   0           batch_normalization_19[0][0]     \n",
            "__________________________________________________________________________________________________\n",
            "conv2d_24 (Conv2D)              (None, 28, 28, 16)   2320        activation_25[0][0]              \n",
            "__________________________________________________________________________________________________\n",
            "tf_op_layer_add_9 (TensorFlowOp [(None, 28, 28, 16)] 0           conv2d_24[0][0]                  \n",
            "                                                                 tf_op_layer_split_4[0][1]        \n",
            "__________________________________________________________________________________________________\n",
            "tf_op_layer_concat_4 (TensorFlo [(None, 28, 28, 32)] 0           tf_op_layer_add_8[0][0]          \n",
            "                                                                 tf_op_layer_add_9[0][0]          \n",
            "__________________________________________________________________________________________________\n",
            "flatten_4 (Flatten)             (None, 25088)        0           tf_op_layer_concat_4[0][0]       \n",
            "__________________________________________________________________________________________________\n",
            "dense_4 (Dense)                 (None, 100)          2508900     flatten_4[0][0]                  \n",
            "__________________________________________________________________________________________________\n",
            "activation_26 (Activation)      (None, 100)          0           dense_4[0][0]                    \n",
            "__________________________________________________________________________________________________\n",
            "dense_5 (Dense)                 (None, 10)           1010        activation_26[0][0]              \n",
            "__________________________________________________________________________________________________\n",
            "activation_27 (Activation)      (None, 10)           0           dense_5[0][0]                    \n",
            "==================================================================================================\n",
            "Total params: 2,519,574\n",
            "Trainable params: 2,519,446\n",
            "Non-trainable params: 128\n",
            "__________________________________________________________________________________________________\n"
          ],
          "name": "stdout"
        }
      ]
    },
    {
      "cell_type": "code",
      "metadata": {
        "id": "0sPHZSQn-qfr",
        "colab_type": "code",
        "outputId": "6131bdf4-5de0-41da-8439-8811292d47fb",
        "colab": {
          "base_uri": "https://localhost:8080/",
          "height": 884
        }
      },
      "source": [
        "adam = keras.optimizers.Adam()\n",
        "model.compile(optimizer=adam,\n",
        "              loss='sparse_categorical_crossentropy',\n",
        "              metrics=['sparse_categorical_accuracy'])\n",
        "\n",
        "checkpointer = keras.callbacks.ModelCheckpoint(filepath=\"revnet_with_dense.hdf5\", \n",
        "                                               verbose=1, save_best_only=True)\n",
        "earlystopper = keras.callbacks.EarlyStopping(monitor=\"val_loss\", patience=5, \n",
        "                                             verbose=1)\n",
        "\n",
        "model.fit(X_train, y_train,\n",
        "          batch_size=32, epochs=40, \n",
        "          validation_data=(X_test, y_test),\n",
        "          callbacks=[checkpointer, earlystopper])"
      ],
      "execution_count": 0,
      "outputs": [
        {
          "output_type": "stream",
          "text": [
            "Train on 52500 samples, validate on 17500 samples\n",
            "Epoch 1/40\n",
            "52416/52500 [============================>.] - ETA: 0s - loss: 2.3425 - sparse_categorical_accuracy: 0.6589\n",
            "Epoch 00001: val_loss improved from inf to 0.88950, saving model to revnet_with_dense.hdf5\n",
            "52500/52500 [==============================] - 13s 243us/sample - loss: 2.3401 - sparse_categorical_accuracy: 0.6591 - val_loss: 0.8895 - val_sparse_categorical_accuracy: 0.7757\n",
            "Epoch 2/40\n",
            "52224/52500 [============================>.] - ETA: 0s - loss: 0.6189 - sparse_categorical_accuracy: 0.8334\n",
            "Epoch 00002: val_loss improved from 0.88950 to 0.40819, saving model to revnet_with_dense.hdf5\n",
            "52500/52500 [==============================] - 12s 224us/sample - loss: 0.6184 - sparse_categorical_accuracy: 0.8335 - val_loss: 0.4082 - val_sparse_categorical_accuracy: 0.8925\n",
            "Epoch 3/40\n",
            "52480/52500 [============================>.] - ETA: 0s - loss: 0.2397 - sparse_categorical_accuracy: 0.9389\n",
            "Epoch 00003: val_loss improved from 0.40819 to 0.16763, saving model to revnet_with_dense.hdf5\n",
            "52500/52500 [==============================] - 12s 223us/sample - loss: 0.2397 - sparse_categorical_accuracy: 0.9389 - val_loss: 0.1676 - val_sparse_categorical_accuracy: 0.9574\n",
            "Epoch 4/40\n",
            "52256/52500 [============================>.] - ETA: 0s - loss: 0.1443 - sparse_categorical_accuracy: 0.9615\n",
            "Epoch 00004: val_loss did not improve from 0.16763\n",
            "52500/52500 [==============================] - 12s 222us/sample - loss: 0.1441 - sparse_categorical_accuracy: 0.9615 - val_loss: 0.1693 - val_sparse_categorical_accuracy: 0.9531\n",
            "Epoch 5/40\n",
            "52288/52500 [============================>.] - ETA: 0s - loss: 0.1114 - sparse_categorical_accuracy: 0.9698\n",
            "Epoch 00005: val_loss improved from 0.16763 to 0.14574, saving model to revnet_with_dense.hdf5\n",
            "52500/52500 [==============================] - 12s 222us/sample - loss: 0.1112 - sparse_categorical_accuracy: 0.9699 - val_loss: 0.1457 - val_sparse_categorical_accuracy: 0.9623\n",
            "Epoch 6/40\n",
            "52384/52500 [============================>.] - ETA: 0s - loss: 0.1078 - sparse_categorical_accuracy: 0.9722\n",
            "Epoch 00006: val_loss improved from 0.14574 to 0.14496, saving model to revnet_with_dense.hdf5\n",
            "52500/52500 [==============================] - 12s 226us/sample - loss: 0.1077 - sparse_categorical_accuracy: 0.9723 - val_loss: 0.1450 - val_sparse_categorical_accuracy: 0.9643\n",
            "Epoch 7/40\n",
            "52448/52500 [============================>.] - ETA: 0s - loss: 0.0891 - sparse_categorical_accuracy: 0.9760\n",
            "Epoch 00007: val_loss improved from 0.14496 to 0.10011, saving model to revnet_with_dense.hdf5\n",
            "52500/52500 [==============================] - 12s 224us/sample - loss: 0.0890 - sparse_categorical_accuracy: 0.9761 - val_loss: 0.1001 - val_sparse_categorical_accuracy: 0.9743\n",
            "Epoch 8/40\n",
            "52480/52500 [============================>.] - ETA: 0s - loss: 0.0854 - sparse_categorical_accuracy: 0.9780\n",
            "Epoch 00008: val_loss did not improve from 0.10011\n",
            "52500/52500 [==============================] - 12s 222us/sample - loss: 0.0855 - sparse_categorical_accuracy: 0.9780 - val_loss: 0.1238 - val_sparse_categorical_accuracy: 0.9692\n",
            "Epoch 9/40\n",
            "52384/52500 [============================>.] - ETA: 0s - loss: 0.0831 - sparse_categorical_accuracy: 0.9794\n",
            "Epoch 00009: val_loss did not improve from 0.10011\n",
            "52500/52500 [==============================] - 12s 221us/sample - loss: 0.0830 - sparse_categorical_accuracy: 0.9794 - val_loss: 0.1599 - val_sparse_categorical_accuracy: 0.9666\n",
            "Epoch 10/40\n",
            "52416/52500 [============================>.] - ETA: 0s - loss: 0.0753 - sparse_categorical_accuracy: 0.9809\n",
            "Epoch 00010: val_loss did not improve from 0.10011\n",
            "52500/52500 [==============================] - 12s 225us/sample - loss: 0.0752 - sparse_categorical_accuracy: 0.9810 - val_loss: 0.2866 - val_sparse_categorical_accuracy: 0.9485\n",
            "Epoch 11/40\n",
            "52320/52500 [============================>.] - ETA: 0s - loss: 0.0703 - sparse_categorical_accuracy: 0.9828\n",
            "Epoch 00011: val_loss did not improve from 0.10011\n",
            "52500/52500 [==============================] - 12s 228us/sample - loss: 0.0702 - sparse_categorical_accuracy: 0.9829 - val_loss: 0.1239 - val_sparse_categorical_accuracy: 0.9779\n",
            "Epoch 12/40\n",
            "52480/52500 [============================>.] - ETA: 0s - loss: 0.0688 - sparse_categorical_accuracy: 0.9833\n",
            "Epoch 00012: val_loss did not improve from 0.10011\n",
            "52500/52500 [==============================] - 12s 222us/sample - loss: 0.0688 - sparse_categorical_accuracy: 0.9833 - val_loss: 0.1616 - val_sparse_categorical_accuracy: 0.9681\n",
            "Epoch 00012: early stopping\n"
          ],
          "name": "stdout"
        },
        {
          "output_type": "execute_result",
          "data": {
            "text/plain": [
              "<tensorflow.python.keras.callbacks.History at 0x7fce386e9b00>"
            ]
          },
          "metadata": {
            "tags": []
          },
          "execution_count": 212
        }
      ]
    },
    {
      "cell_type": "markdown",
      "metadata": {
        "id": "KhBjbJ4FHA8A",
        "colab_type": "text"
      },
      "source": [
        "**Переобучение сети на маленьком батче:**"
      ]
    },
    {
      "cell_type": "code",
      "metadata": {
        "id": "jjkGca2NF_d9",
        "colab_type": "code",
        "outputId": "b5305ef4-8b81-4241-a759-32312469893a",
        "colab": {
          "base_uri": "https://localhost:8080/",
          "height": 782
        }
      },
      "source": [
        "model = build_model()\n",
        "\n",
        "adam = keras.optimizers.Adam()\n",
        "model.compile(optimizer=adam,\n",
        "              loss='sparse_categorical_crossentropy',\n",
        "              metrics=['sparse_categorical_accuracy'])\n",
        "\n",
        "earlystopper = keras.callbacks.EarlyStopping(monitor=\"loss\", patience=5, \n",
        "                                             verbose=1)\n",
        "\n",
        "model.fit(X_train[:32], y_train[:32],\n",
        "          batch_size=32, epochs=40,\n",
        "          callbacks=[earlystopper])"
      ],
      "execution_count": 0,
      "outputs": [
        {
          "output_type": "stream",
          "text": [
            "Train on 32 samples\n",
            "Epoch 1/40\n",
            "32/32 [==============================] - 1s 32ms/sample - loss: 52.8831 - sparse_categorical_accuracy: 0.1562\n",
            "Epoch 2/40\n",
            "32/32 [==============================] - 0s 441us/sample - loss: 158.0528 - sparse_categorical_accuracy: 0.4688\n",
            "Epoch 3/40\n",
            "32/32 [==============================] - 0s 430us/sample - loss: 188.1282 - sparse_categorical_accuracy: 0.5000\n",
            "Epoch 4/40\n",
            "32/32 [==============================] - 0s 432us/sample - loss: 128.7907 - sparse_categorical_accuracy: 0.5312\n",
            "Epoch 5/40\n",
            "32/32 [==============================] - 0s 352us/sample - loss: 66.2178 - sparse_categorical_accuracy: 0.6562\n",
            "Epoch 6/40\n",
            "32/32 [==============================] - 0s 346us/sample - loss: 22.7801 - sparse_categorical_accuracy: 0.7188\n",
            "Epoch 7/40\n",
            "32/32 [==============================] - 0s 340us/sample - loss: 5.4840 - sparse_categorical_accuracy: 0.8438\n",
            "Epoch 8/40\n",
            "32/32 [==============================] - 0s 383us/sample - loss: 2.0206 - sparse_categorical_accuracy: 0.9375\n",
            "Epoch 9/40\n",
            "32/32 [==============================] - 0s 379us/sample - loss: 1.3962 - sparse_categorical_accuracy: 0.9375\n",
            "Epoch 10/40\n",
            "32/32 [==============================] - 0s 541us/sample - loss: 1.4436 - sparse_categorical_accuracy: 0.8438\n",
            "Epoch 11/40\n",
            "32/32 [==============================] - 0s 350us/sample - loss: 0.8561 - sparse_categorical_accuracy: 0.9375\n",
            "Epoch 12/40\n",
            "32/32 [==============================] - 0s 426us/sample - loss: 0.5782 - sparse_categorical_accuracy: 0.9375\n",
            "Epoch 13/40\n",
            "32/32 [==============================] - 0s 353us/sample - loss: 0.0329 - sparse_categorical_accuracy: 0.9688\n",
            "Epoch 14/40\n",
            "32/32 [==============================] - 0s 336us/sample - loss: 0.0046 - sparse_categorical_accuracy: 1.0000\n",
            "Epoch 15/40\n",
            "32/32 [==============================] - 0s 368us/sample - loss: 0.4755 - sparse_categorical_accuracy: 0.9688\n",
            "Epoch 16/40\n",
            "32/32 [==============================] - 0s 426us/sample - loss: 2.9609e-05 - sparse_categorical_accuracy: 1.0000\n",
            "Epoch 17/40\n",
            "32/32 [==============================] - 0s 567us/sample - loss: 9.3555e-05 - sparse_categorical_accuracy: 1.0000\n",
            "Epoch 18/40\n",
            "32/32 [==============================] - 0s 418us/sample - loss: 1.8279e-04 - sparse_categorical_accuracy: 1.0000\n",
            "Epoch 19/40\n",
            "32/32 [==============================] - 0s 386us/sample - loss: 2.6565e-04 - sparse_categorical_accuracy: 1.0000\n",
            "Epoch 20/40\n",
            "32/32 [==============================] - 0s 440us/sample - loss: 2.6850e-04 - sparse_categorical_accuracy: 1.0000\n",
            "Epoch 21/40\n",
            "32/32 [==============================] - 0s 377us/sample - loss: 5.3148e-04 - sparse_categorical_accuracy: 1.0000\n",
            "Epoch 00021: early stopping\n"
          ],
          "name": "stdout"
        },
        {
          "output_type": "execute_result",
          "data": {
            "text/plain": [
              "<tensorflow.python.keras.callbacks.History at 0x7fce82a3eb38>"
            ]
          },
          "metadata": {
            "tags": []
          },
          "execution_count": 32
        }
      ]
    },
    {
      "cell_type": "markdown",
      "metadata": {
        "id": "KeJ51RvQLBs0",
        "colab_type": "text"
      },
      "source": [
        "**LR range test** (https://www.kaggle.com/paultimothymooney/learning-rate-finder-for-keras):"
      ]
    },
    {
      "cell_type": "code",
      "metadata": {
        "id": "3-87see6NNw9",
        "colab_type": "code",
        "colab": {}
      },
      "source": [
        "import math\n",
        "from tensorflow.keras.callbacks import LambdaCallback\n",
        "import tensorflow.keras.backend as K"
      ],
      "execution_count": 0,
      "outputs": []
    },
    {
      "cell_type": "code",
      "metadata": {
        "id": "0WhkCGaxHIMT",
        "colab_type": "code",
        "colab": {}
      },
      "source": [
        "class LRFinder:\n",
        "    \"\"\"\n",
        "    Plots the change of the loss function of a Keras model when the learning rate is exponentially increasing.\n",
        "    See for details:\n",
        "    https://towardsdatascience.com/estimating-optimal-learning-rate-for-a-deep-neural-network-ce32f2556ce0\n",
        "    \"\"\"\n",
        "    def __init__(self, model):\n",
        "        self.model = model\n",
        "        self.losses = []\n",
        "        self.lrs = []\n",
        "        self.best_loss = 1e9\n",
        "\n",
        "    def on_batch_end(self, batch, logs):\n",
        "        lr = K.get_value(self.model.optimizer.lr)\n",
        "        self.lrs.append(lr)\n",
        "\n",
        "        loss = logs['loss']\n",
        "        self.losses.append(loss)\n",
        "\n",
        "        if math.isnan(loss) or loss > self.best_loss * 1000:\n",
        "            self.model.stop_training = True\n",
        "            return\n",
        "\n",
        "        if loss < self.best_loss:\n",
        "            self.best_loss = loss\n",
        "\n",
        "        lr *= self.lr_mult\n",
        "        K.set_value(self.model.optimizer.lr, lr)\n",
        "\n",
        "    def find(self, x_train, y_train, start_lr, end_lr, batch_size=64, epochs=1):\n",
        "        num_batches = epochs * x_train.shape[0] / batch_size\n",
        "        self.lr_mult = (end_lr / start_lr) ** (1 / num_batches)\n",
        "\n",
        "        self.model.save_weights('tmp.h5')\n",
        "\n",
        "        original_lr = K.get_value(self.model.optimizer.lr)\n",
        "\n",
        "        K.set_value(self.model.optimizer.lr, start_lr)\n",
        "\n",
        "        callback = LambdaCallback(on_batch_end=lambda batch, logs: self.on_batch_end(batch, logs))\n",
        "\n",
        "        self.model.fit(x_train, y_train,\n",
        "                        batch_size=batch_size, epochs=epochs,\n",
        "                        callbacks=[callback])\n",
        "\n",
        "        self.model.load_weights('tmp.h5')\n",
        "\n",
        "        K.set_value(self.model.optimizer.lr, original_lr)\n",
        "\n",
        "    def plot_loss(self, n_skip_beginning=10, n_skip_end=5, y_lim=(0, 100)):\n",
        "        \"\"\"\n",
        "        Plots the loss.\n",
        "        Parameters:\n",
        "            n_skip_beginning - number of batches to skip on the left.\n",
        "            n_skip_end - number of batches to skip on the right.\n",
        "        \"\"\"\n",
        "        plt.figure(figsize=(12, 8))\n",
        "        plt.ylabel(\"loss\")\n",
        "        plt.xlabel(\"learning rate (log scale)\")\n",
        "        x = self.lrs[n_skip_beginning:-n_skip_end]\n",
        "        y = self.losses[n_skip_beginning:-n_skip_end]\n",
        "        plt.plot(x, y)\n",
        "        plt.xscale('log')\n",
        "        plt.ylim(y_lim)\n",
        "\n",
        "    def plot_loss_change(self, sma=1, n_skip_beginning=10, n_skip_end=5, y_lim=(-0.01, 0.01)):\n",
        "        \"\"\"\n",
        "        Plots rate of change of the loss function.\n",
        "        Parameters:\n",
        "            sma - number of batches for simple moving average to smooth out the curve.\n",
        "            n_skip_beginning - number of batches to skip on the left.\n",
        "            n_skip_end - number of batches to skip on the right.\n",
        "            y_lim - limits for the y axis.\n",
        "        \"\"\"\n",
        "        assert sma >= 1\n",
        "        derivatives = [0] * sma\n",
        "        for i in range(sma, len(self.lrs)):\n",
        "            derivative = (self.losses[i] - self.losses[i - sma]) / sma\n",
        "            derivatives.append(derivative)\n",
        "\n",
        "        plt.ylabel(\"rate of loss change\")\n",
        "        plt.xlabel(\"learning rate (log scale)\")\n",
        "        plt.plot(self.lrs[n_skip_beginning:-n_skip_end], derivatives[n_skip_beginning:-n_skip_end])\n",
        "        plt.xscale('log')\n",
        "        plt.ylim(y_lim)\n"
      ],
      "execution_count": 0,
      "outputs": []
    },
    {
      "cell_type": "markdown",
      "metadata": {
        "id": "HUI92jIrceqQ",
        "colab_type": "text"
      },
      "source": [
        "Для SGD:"
      ]
    },
    {
      "cell_type": "code",
      "metadata": {
        "id": "niItIJwaM4Ib",
        "colab_type": "code",
        "outputId": "d013bf03-2355-4643-c5b4-96eff5dd3f47",
        "colab": {
          "base_uri": "https://localhost:8080/",
          "height": 539
        }
      },
      "source": [
        "model = build_model()\n",
        "\n",
        "model.compile(optimizer=keras.optimizers.SGD(),\n",
        "              loss='sparse_categorical_crossentropy',\n",
        "              metrics=['sparse_categorical_accuracy'])\n",
        "\n",
        "lr_finder = LRFinder(model)\n",
        "lr_finder.find(X_train, y_train, start_lr=0.0001, end_lr=100, batch_size=512, epochs=1)\n",
        "lr_finder.plot_loss(n_skip_beginning=1, n_skip_end=1, y_lim=(0, 25))\n",
        "plt.show()"
      ],
      "execution_count": 0,
      "outputs": [
        {
          "output_type": "stream",
          "text": [
            "Train on 52500 samples\n",
            "16384/52500 [========>.....................] - ETA: 4s - loss: 252.6918 - sparse_categorical_accuracy: 0.4140"
          ],
          "name": "stdout"
        },
        {
          "output_type": "display_data",
          "data": {
            "image/png": "[encoded data removed]",
            "text/plain": [
              "<Figure size 864x576 with 1 Axes>"
            ]
          },
          "metadata": {
            "tags": []
          }
        }
      ]
    },
    {
      "cell_type": "markdown",
      "metadata": {
        "id": "6CLbQFAichBB",
        "colab_type": "text"
      },
      "source": [
        "Посмотрим качество обучения для лучших lr:"
      ]
    },
    {
      "cell_type": "code",
      "metadata": {
        "id": "yZjQe2XPW69a",
        "colab_type": "code",
        "outputId": "f9478626-2ca8-4d7b-b02b-b4a7c9406ce6",
        "colab": {
          "base_uri": "https://localhost:8080/",
          "height": 1000
        }
      },
      "source": [
        " model = build_model()\n",
        " \n",
        " model.compile(optimizer=keras.optimizers.SGD(learning_rate=1e-4),\n",
        "              loss='sparse_categorical_crossentropy',\n",
        "              metrics=['sparse_categorical_accuracy'])\n",
        "\n",
        "checkpointer = keras.callbacks.ModelCheckpoint(filepath=\"revnet_with_dense_sgd.hdf5\", \n",
        "                                               verbose=1, save_best_only=True)\n",
        "earlystopper = keras.callbacks.EarlyStopping(monitor=\"val_loss\", patience=5, \n",
        "                                             verbose=1)\n",
        "\n",
        "model.fit(X_train, y_train,\n",
        "          batch_size=32, epochs=40, \n",
        "          validation_data=(X_test, y_test),\n",
        "          callbacks=[checkpointer, earlystopper])"
      ],
      "execution_count": 0,
      "outputs": [
        {
          "output_type": "stream",
          "text": [
            "Train on 52500 samples, validate on 17500 samples\n",
            "Epoch 1/40\n",
            "52192/52500 [============================>.] - ETA: 0s - loss: 1.1177 - sparse_categorical_accuracy: 0.7969\n",
            "Epoch 00001: val_loss improved from inf to 0.57685, saving model to revnet_with_dense_sgd.hdf5\n",
            "52500/52500 [==============================] - 11s 218us/sample - loss: 1.1140 - sparse_categorical_accuracy: 0.7974 - val_loss: 0.5769 - val_sparse_categorical_accuracy: 0.8753\n",
            "Epoch 2/40\n",
            "52448/52500 [============================>.] - ETA: 0s - loss: 0.4586 - sparse_categorical_accuracy: 0.8939\n",
            "Epoch 00002: val_loss improved from 0.57685 to 0.45376, saving model to revnet_with_dense_sgd.hdf5\n",
            "52500/52500 [==============================] - 11s 202us/sample - loss: 0.4585 - sparse_categorical_accuracy: 0.8939 - val_loss: 0.4538 - val_sparse_categorical_accuracy: 0.9013\n",
            "Epoch 3/40\n",
            "52480/52500 [============================>.] - ETA: 0s - loss: 0.3565 - sparse_categorical_accuracy: 0.9154\n",
            "Epoch 00003: val_loss improved from 0.45376 to 0.37887, saving model to revnet_with_dense_sgd.hdf5\n",
            "52500/52500 [==============================] - 11s 203us/sample - loss: 0.3564 - sparse_categorical_accuracy: 0.9155 - val_loss: 0.3789 - val_sparse_categorical_accuracy: 0.9189\n",
            "Epoch 4/40\n",
            "52352/52500 [============================>.] - ETA: 0s - loss: 0.3050 - sparse_categorical_accuracy: 0.9268\n",
            "Epoch 00004: val_loss improved from 0.37887 to 0.34950, saving model to revnet_with_dense_sgd.hdf5\n",
            "52500/52500 [==============================] - 11s 201us/sample - loss: 0.3052 - sparse_categorical_accuracy: 0.9268 - val_loss: 0.3495 - val_sparse_categorical_accuracy: 0.9243\n",
            "Epoch 5/40\n",
            "52352/52500 [============================>.] - ETA: 0s - loss: 0.2713 - sparse_categorical_accuracy: 0.9333\n",
            "Epoch 00005: val_loss improved from 0.34950 to 0.34436, saving model to revnet_with_dense_sgd.hdf5\n",
            "52500/52500 [==============================] - 11s 201us/sample - loss: 0.2714 - sparse_categorical_accuracy: 0.9333 - val_loss: 0.3444 - val_sparse_categorical_accuracy: 0.9250\n",
            "Epoch 6/40\n",
            "52224/52500 [============================>.] - ETA: 0s - loss: 0.2470 - sparse_categorical_accuracy: 0.9388\n",
            "Epoch 00006: val_loss improved from 0.34436 to 0.32183, saving model to revnet_with_dense_sgd.hdf5\n",
            "52500/52500 [==============================] - 10s 198us/sample - loss: 0.2470 - sparse_categorical_accuracy: 0.9388 - val_loss: 0.3218 - val_sparse_categorical_accuracy: 0.9303\n",
            "Epoch 7/40\n",
            "52192/52500 [============================>.] - ETA: 0s - loss: 0.2234 - sparse_categorical_accuracy: 0.9427\n",
            "Epoch 00007: val_loss did not improve from 0.32183\n",
            "52500/52500 [==============================] - 11s 200us/sample - loss: 0.2229 - sparse_categorical_accuracy: 0.9428 - val_loss: 0.3328 - val_sparse_categorical_accuracy: 0.9321\n",
            "Epoch 8/40\n",
            "52448/52500 [============================>.] - ETA: 0s - loss: 0.2052 - sparse_categorical_accuracy: 0.9474\n",
            "Epoch 00008: val_loss improved from 0.32183 to 0.29540, saving model to revnet_with_dense_sgd.hdf5\n",
            "52500/52500 [==============================] - 11s 200us/sample - loss: 0.2054 - sparse_categorical_accuracy: 0.9473 - val_loss: 0.2954 - val_sparse_categorical_accuracy: 0.9339\n",
            "Epoch 9/40\n",
            "52352/52500 [============================>.] - ETA: 0s - loss: 0.1897 - sparse_categorical_accuracy: 0.9508\n",
            "Epoch 00009: val_loss did not improve from 0.29540\n",
            "52500/52500 [==============================] - 10s 198us/sample - loss: 0.1897 - sparse_categorical_accuracy: 0.9509 - val_loss: 0.3037 - val_sparse_categorical_accuracy: 0.9349\n",
            "Epoch 10/40\n",
            "52224/52500 [============================>.] - ETA: 0s - loss: 0.1749 - sparse_categorical_accuracy: 0.9542\n",
            "Epoch 00010: val_loss improved from 0.29540 to 0.28950, saving model to revnet_with_dense_sgd.hdf5\n",
            "52500/52500 [==============================] - 11s 201us/sample - loss: 0.1750 - sparse_categorical_accuracy: 0.9542 - val_loss: 0.2895 - val_sparse_categorical_accuracy: 0.9375\n",
            "Epoch 11/40\n",
            "52224/52500 [============================>.] - ETA: 0s - loss: 0.1636 - sparse_categorical_accuracy: 0.9568\n",
            "Epoch 00011: val_loss improved from 0.28950 to 0.27898, saving model to revnet_with_dense_sgd.hdf5\n",
            "52500/52500 [==============================] - 11s 202us/sample - loss: 0.1638 - sparse_categorical_accuracy: 0.9567 - val_loss: 0.2790 - val_sparse_categorical_accuracy: 0.9399\n",
            "Epoch 12/40\n",
            "52192/52500 [============================>.] - ETA: 0s - loss: 0.1513 - sparse_categorical_accuracy: 0.9599\n",
            "Epoch 00012: val_loss did not improve from 0.27898\n",
            "52500/52500 [==============================] - 10s 199us/sample - loss: 0.1513 - sparse_categorical_accuracy: 0.9598 - val_loss: 0.2848 - val_sparse_categorical_accuracy: 0.9402\n",
            "Epoch 13/40\n",
            "52256/52500 [============================>.] - ETA: 0s - loss: 0.1431 - sparse_categorical_accuracy: 0.9614\n",
            "Epoch 00013: val_loss did not improve from 0.27898\n",
            "52500/52500 [==============================] - 10s 199us/sample - loss: 0.1429 - sparse_categorical_accuracy: 0.9614 - val_loss: 0.2867 - val_sparse_categorical_accuracy: 0.9393\n",
            "Epoch 14/40\n",
            "52448/52500 [============================>.] - ETA: 0s - loss: 0.1347 - sparse_categorical_accuracy: 0.9630\n",
            "Epoch 00014: val_loss did not improve from 0.27898\n",
            "52500/52500 [==============================] - 10s 199us/sample - loss: 0.1346 - sparse_categorical_accuracy: 0.9630 - val_loss: 0.2832 - val_sparse_categorical_accuracy: 0.9430\n",
            "Epoch 15/40\n",
            "52288/52500 [============================>.] - ETA: 0s - loss: 0.1275 - sparse_categorical_accuracy: 0.9648\n",
            "Epoch 00015: val_loss did not improve from 0.27898\n",
            "52500/52500 [==============================] - 10s 198us/sample - loss: 0.1272 - sparse_categorical_accuracy: 0.9648 - val_loss: 0.2822 - val_sparse_categorical_accuracy: 0.9404\n",
            "Epoch 16/40\n",
            "52288/52500 [============================>.] - ETA: 0s - loss: 0.1208 - sparse_categorical_accuracy: 0.9664\n",
            "Epoch 00016: val_loss did not improve from 0.27898\n",
            "52500/52500 [==============================] - 10s 197us/sample - loss: 0.1206 - sparse_categorical_accuracy: 0.9664 - val_loss: 0.2826 - val_sparse_categorical_accuracy: 0.9436\n",
            "Epoch 00016: early stopping\n"
          ],
          "name": "stdout"
        },
        {
          "output_type": "execute_result",
          "data": {
            "text/plain": [
              "<tensorflow.python.keras.callbacks.History at 0x7fce787c9080>"
            ]
          },
          "metadata": {
            "tags": []
          },
          "execution_count": 201
        }
      ]
    },
    {
      "cell_type": "code",
      "metadata": {
        "id": "yQPIcBGPcHfo",
        "colab_type": "code",
        "outputId": "d8ee1c54-2d20-4029-b344-5f9ecdbb6dd0",
        "colab": {
          "base_uri": "https://localhost:8080/",
          "height": 476
        }
      },
      "source": [
        " model = build_model()\n",
        " \n",
        " model.compile(optimizer=keras.optimizers.SGD(learning_rate=1e-3),\n",
        "              loss='sparse_categorical_crossentropy',\n",
        "              metrics=['sparse_categorical_accuracy'])\n",
        "\n",
        "checkpointer = keras.callbacks.ModelCheckpoint(filepath=\"revnet_with_dense_sgd.hdf5\", \n",
        "                                               verbose=1, save_best_only=True)\n",
        "earlystopper = keras.callbacks.EarlyStopping(monitor=\"val_loss\", patience=5, \n",
        "                                             verbose=1)\n",
        "\n",
        "model.fit(X_train, y_train,\n",
        "          batch_size=32, epochs=40, \n",
        "          validation_data=(X_test, y_test),\n",
        "          callbacks=[checkpointer, earlystopper])"
      ],
      "execution_count": 0,
      "outputs": [
        {
          "output_type": "stream",
          "text": [
            "Train on 52500 samples, validate on 17500 samples\n",
            "Epoch 1/40\n",
            "52480/52500 [============================>.] - ETA: 0s - loss: nan - sparse_categorical_accuracy: 0.0988\n",
            "Epoch 00001: val_loss did not improve from inf\n",
            "52500/52500 [==============================] - 12s 231us/sample - loss: nan - sparse_categorical_accuracy: 0.0988 - val_loss: nan - val_sparse_categorical_accuracy: 0.0979\n",
            "Epoch 2/40\n",
            "16192/52500 [========>.....................] - ETA: 6s - loss: nan - sparse_categorical_accuracy: 0.0980WARNING:tensorflow:Can save best model only with val_loss available, skipping.\n",
            "WARNING:tensorflow:Early stopping conditioned on metric `val_loss` which is not available. Available metrics are: loss,sparse_categorical_accuracy\n"
          ],
          "name": "stdout"
        },
        {
          "output_type": "error",
          "ename": "KeyboardInterrupt",
          "evalue": "ignored",
          "traceback": [
            "\u001b[0;31m---------------------------------------------------------------------------\u001b[0m",
            "\u001b[0;31mKeyboardInterrupt\u001b[0m                         Traceback (most recent call last)",
            "\u001b[0;32m<ipython-input-204-90d81d4c492e>\u001b[0m in \u001b[0;36m<module>\u001b[0;34m()\u001b[0m\n\u001b[1;32m     11\u001b[0m          \u001b[0mbatch_size\u001b[0m\u001b[0;34m=\u001b[0m\u001b[0;36m32\u001b[0m\u001b[0;34m,\u001b[0m \u001b[0mepochs\u001b[0m\u001b[0;34m=\u001b[0m\u001b[0;36m40\u001b[0m\u001b[0;34m,\u001b[0m\u001b[0;34m\u001b[0m\u001b[0;34m\u001b[0m\u001b[0m\n\u001b[1;32m     12\u001b[0m          \u001b[0mvalidation_data\u001b[0m\u001b[0;34m=\u001b[0m\u001b[0;34m(\u001b[0m\u001b[0mX_test\u001b[0m\u001b[0;34m,\u001b[0m \u001b[0my_test\u001b[0m\u001b[0;34m)\u001b[0m\u001b[0;34m,\u001b[0m\u001b[0;34m\u001b[0m\u001b[0;34m\u001b[0m\u001b[0m\n\u001b[0;32m---> 13\u001b[0;31m          callbacks=[checkpointer, earlystopper])\n\u001b[0m",
            "\u001b[0;32m/usr/local/lib/python3.6/dist-packages/tensorflow_core/python/keras/engine/training.py\u001b[0m in \u001b[0;36mfit\u001b[0;34m(self, x, y, batch_size, epochs, verbose, callbacks, validation_split, validation_data, shuffle, class_weight, sample_weight, initial_epoch, steps_per_epoch, validation_steps, validation_freq, max_queue_size, workers, use_multiprocessing, **kwargs)\u001b[0m\n\u001b[1;32m    726\u001b[0m         \u001b[0mmax_queue_size\u001b[0m\u001b[0;34m=\u001b[0m\u001b[0mmax_queue_size\u001b[0m\u001b[0;34m,\u001b[0m\u001b[0;34m\u001b[0m\u001b[0;34m\u001b[0m\u001b[0m\n\u001b[1;32m    727\u001b[0m         \u001b[0mworkers\u001b[0m\u001b[0;34m=\u001b[0m\u001b[0mworkers\u001b[0m\u001b[0;34m,\u001b[0m\u001b[0;34m\u001b[0m\u001b[0;34m\u001b[0m\u001b[0m\n\u001b[0;32m--> 728\u001b[0;31m         use_multiprocessing=use_multiprocessing)\n\u001b[0m\u001b[1;32m    729\u001b[0m \u001b[0;34m\u001b[0m\u001b[0m\n\u001b[1;32m    730\u001b[0m   def evaluate(self,\n",
            "\u001b[0;32m/usr/local/lib/python3.6/dist-packages/tensorflow_core/python/keras/engine/training_v2.py\u001b[0m in \u001b[0;36mfit\u001b[0;34m(self, model, x, y, batch_size, epochs, verbose, callbacks, validation_split, validation_data, shuffle, class_weight, sample_weight, initial_epoch, steps_per_epoch, validation_steps, validation_freq, **kwargs)\u001b[0m\n\u001b[1;32m    322\u001b[0m                 \u001b[0mmode\u001b[0m\u001b[0;34m=\u001b[0m\u001b[0mModeKeys\u001b[0m\u001b[0;34m.\u001b[0m\u001b[0mTRAIN\u001b[0m\u001b[0;34m,\u001b[0m\u001b[0;34m\u001b[0m\u001b[0;34m\u001b[0m\u001b[0m\n\u001b[1;32m    323\u001b[0m                 \u001b[0mtraining_context\u001b[0m\u001b[0;34m=\u001b[0m\u001b[0mtraining_context\u001b[0m\u001b[0;34m,\u001b[0m\u001b[0;34m\u001b[0m\u001b[0;34m\u001b[0m\u001b[0m\n\u001b[0;32m--> 324\u001b[0;31m                 total_epochs=epochs)\n\u001b[0m\u001b[1;32m    325\u001b[0m             \u001b[0mcbks\u001b[0m\u001b[0;34m.\u001b[0m\u001b[0mmake_logs\u001b[0m\u001b[0;34m(\u001b[0m\u001b[0mmodel\u001b[0m\u001b[0;34m,\u001b[0m \u001b[0mepoch_logs\u001b[0m\u001b[0;34m,\u001b[0m \u001b[0mtraining_result\u001b[0m\u001b[0;34m,\u001b[0m \u001b[0mModeKeys\u001b[0m\u001b[0;34m.\u001b[0m\u001b[0mTRAIN\u001b[0m\u001b[0;34m)\u001b[0m\u001b[0;34m\u001b[0m\u001b[0;34m\u001b[0m\u001b[0m\n\u001b[1;32m    326\u001b[0m \u001b[0;34m\u001b[0m\u001b[0m\n",
            "\u001b[0;32m/usr/local/lib/python3.6/dist-packages/tensorflow_core/python/keras/engine/training_v2.py\u001b[0m in \u001b[0;36mrun_one_epoch\u001b[0;34m(model, iterator, execution_function, dataset_size, batch_size, strategy, steps_per_epoch, num_samples, mode, training_context, total_epochs)\u001b[0m\n\u001b[1;32m    121\u001b[0m         step=step, mode=mode, size=current_batch_size) as batch_logs:\n\u001b[1;32m    122\u001b[0m       \u001b[0;32mtry\u001b[0m\u001b[0;34m:\u001b[0m\u001b[0;34m\u001b[0m\u001b[0;34m\u001b[0m\u001b[0m\n\u001b[0;32m--> 123\u001b[0;31m         \u001b[0mbatch_outs\u001b[0m \u001b[0;34m=\u001b[0m \u001b[0mexecution_function\u001b[0m\u001b[0;34m(\u001b[0m\u001b[0miterator\u001b[0m\u001b[0;34m)\u001b[0m\u001b[0;34m\u001b[0m\u001b[0;34m\u001b[0m\u001b[0m\n\u001b[0m\u001b[1;32m    124\u001b[0m       \u001b[0;32mexcept\u001b[0m \u001b[0;34m(\u001b[0m\u001b[0mStopIteration\u001b[0m\u001b[0;34m,\u001b[0m \u001b[0merrors\u001b[0m\u001b[0;34m.\u001b[0m\u001b[0mOutOfRangeError\u001b[0m\u001b[0;34m)\u001b[0m\u001b[0;34m:\u001b[0m\u001b[0;34m\u001b[0m\u001b[0;34m\u001b[0m\u001b[0m\n\u001b[1;32m    125\u001b[0m         \u001b[0;31m# TODO(kaftan): File bug about tf function and errors.OutOfRangeError?\u001b[0m\u001b[0;34m\u001b[0m\u001b[0;34m\u001b[0m\u001b[0;34m\u001b[0m\u001b[0m\n",
            "\u001b[0;32m/usr/local/lib/python3.6/dist-packages/tensorflow_core/python/keras/engine/training_v2_utils.py\u001b[0m in \u001b[0;36mexecution_function\u001b[0;34m(input_fn)\u001b[0m\n\u001b[1;32m     84\u001b[0m     \u001b[0;31m# `numpy` translates Tensors to values in Eager mode.\u001b[0m\u001b[0;34m\u001b[0m\u001b[0;34m\u001b[0m\u001b[0;34m\u001b[0m\u001b[0m\n\u001b[1;32m     85\u001b[0m     return nest.map_structure(_non_none_constant_value,\n\u001b[0;32m---> 86\u001b[0;31m                               distributed_function(input_fn))\n\u001b[0m\u001b[1;32m     87\u001b[0m \u001b[0;34m\u001b[0m\u001b[0m\n\u001b[1;32m     88\u001b[0m   \u001b[0;32mreturn\u001b[0m \u001b[0mexecution_function\u001b[0m\u001b[0;34m\u001b[0m\u001b[0;34m\u001b[0m\u001b[0m\n",
            "\u001b[0;32m/usr/local/lib/python3.6/dist-packages/tensorflow_core/python/util/nest.py\u001b[0m in \u001b[0;36mmap_structure\u001b[0;34m(func, *structure, **kwargs)\u001b[0m\n\u001b[1;32m    533\u001b[0m \u001b[0;34m\u001b[0m\u001b[0m\n\u001b[1;32m    534\u001b[0m   return pack_sequence_as(\n\u001b[0;32m--> 535\u001b[0;31m       \u001b[0mstructure\u001b[0m\u001b[0;34m[\u001b[0m\u001b[0;36m0\u001b[0m\u001b[0;34m]\u001b[0m\u001b[0;34m,\u001b[0m \u001b[0;34m[\u001b[0m\u001b[0mfunc\u001b[0m\u001b[0;34m(\u001b[0m\u001b[0;34m*\u001b[0m\u001b[0mx\u001b[0m\u001b[0;34m)\u001b[0m \u001b[0;32mfor\u001b[0m \u001b[0mx\u001b[0m \u001b[0;32min\u001b[0m \u001b[0mentries\u001b[0m\u001b[0;34m]\u001b[0m\u001b[0;34m,\u001b[0m\u001b[0;34m\u001b[0m\u001b[0;34m\u001b[0m\u001b[0m\n\u001b[0m\u001b[1;32m    536\u001b[0m       expand_composites=expand_composites)\n\u001b[1;32m    537\u001b[0m \u001b[0;34m\u001b[0m\u001b[0m\n",
            "\u001b[0;32m/usr/local/lib/python3.6/dist-packages/tensorflow_core/python/util/nest.py\u001b[0m in \u001b[0;36m<listcomp>\u001b[0;34m(.0)\u001b[0m\n\u001b[1;32m    533\u001b[0m \u001b[0;34m\u001b[0m\u001b[0m\n\u001b[1;32m    534\u001b[0m   return pack_sequence_as(\n\u001b[0;32m--> 535\u001b[0;31m       \u001b[0mstructure\u001b[0m\u001b[0;34m[\u001b[0m\u001b[0;36m0\u001b[0m\u001b[0;34m]\u001b[0m\u001b[0;34m,\u001b[0m \u001b[0;34m[\u001b[0m\u001b[0mfunc\u001b[0m\u001b[0;34m(\u001b[0m\u001b[0;34m*\u001b[0m\u001b[0mx\u001b[0m\u001b[0;34m)\u001b[0m \u001b[0;32mfor\u001b[0m \u001b[0mx\u001b[0m \u001b[0;32min\u001b[0m \u001b[0mentries\u001b[0m\u001b[0;34m]\u001b[0m\u001b[0;34m,\u001b[0m\u001b[0;34m\u001b[0m\u001b[0;34m\u001b[0m\u001b[0m\n\u001b[0m\u001b[1;32m    536\u001b[0m       expand_composites=expand_composites)\n\u001b[1;32m    537\u001b[0m \u001b[0;34m\u001b[0m\u001b[0m\n",
            "\u001b[0;32m/usr/local/lib/python3.6/dist-packages/tensorflow_core/python/keras/engine/training_v2_utils.py\u001b[0m in \u001b[0;36m_non_none_constant_value\u001b[0;34m(v)\u001b[0m\n\u001b[1;32m     90\u001b[0m \u001b[0;34m\u001b[0m\u001b[0m\n\u001b[1;32m     91\u001b[0m \u001b[0;32mdef\u001b[0m \u001b[0m_non_none_constant_value\u001b[0m\u001b[0;34m(\u001b[0m\u001b[0mv\u001b[0m\u001b[0;34m)\u001b[0m\u001b[0;34m:\u001b[0m\u001b[0;34m\u001b[0m\u001b[0;34m\u001b[0m\u001b[0m\n\u001b[0;32m---> 92\u001b[0;31m   \u001b[0mconstant_value\u001b[0m \u001b[0;34m=\u001b[0m \u001b[0mtensor_util\u001b[0m\u001b[0;34m.\u001b[0m\u001b[0mconstant_value\u001b[0m\u001b[0;34m(\u001b[0m\u001b[0mv\u001b[0m\u001b[0;34m)\u001b[0m\u001b[0;34m\u001b[0m\u001b[0;34m\u001b[0m\u001b[0m\n\u001b[0m\u001b[1;32m     93\u001b[0m   \u001b[0;32mreturn\u001b[0m \u001b[0mconstant_value\u001b[0m \u001b[0;32mif\u001b[0m \u001b[0mconstant_value\u001b[0m \u001b[0;32mis\u001b[0m \u001b[0;32mnot\u001b[0m \u001b[0;32mNone\u001b[0m \u001b[0;32melse\u001b[0m \u001b[0mv\u001b[0m\u001b[0;34m\u001b[0m\u001b[0;34m\u001b[0m\u001b[0m\n\u001b[1;32m     94\u001b[0m \u001b[0;34m\u001b[0m\u001b[0m\n",
            "\u001b[0;32m/usr/local/lib/python3.6/dist-packages/tensorflow_core/python/framework/tensor_util.py\u001b[0m in \u001b[0;36mconstant_value\u001b[0;34m(tensor, partial)\u001b[0m\n\u001b[1;32m    790\u001b[0m   \"\"\"\n\u001b[1;32m    791\u001b[0m   \u001b[0;32mif\u001b[0m \u001b[0misinstance\u001b[0m\u001b[0;34m(\u001b[0m\u001b[0mtensor\u001b[0m\u001b[0;34m,\u001b[0m \u001b[0mops\u001b[0m\u001b[0;34m.\u001b[0m\u001b[0mEagerTensor\u001b[0m\u001b[0;34m)\u001b[0m\u001b[0;34m:\u001b[0m\u001b[0;34m\u001b[0m\u001b[0;34m\u001b[0m\u001b[0m\n\u001b[0;32m--> 792\u001b[0;31m     \u001b[0;32mreturn\u001b[0m \u001b[0mtensor\u001b[0m\u001b[0;34m.\u001b[0m\u001b[0mnumpy\u001b[0m\u001b[0;34m(\u001b[0m\u001b[0;34m)\u001b[0m\u001b[0;34m\u001b[0m\u001b[0;34m\u001b[0m\u001b[0m\n\u001b[0m\u001b[1;32m    793\u001b[0m   \u001b[0;32mif\u001b[0m \u001b[0;32mnot\u001b[0m \u001b[0mis_tensor\u001b[0m\u001b[0;34m(\u001b[0m\u001b[0mtensor\u001b[0m\u001b[0;34m)\u001b[0m\u001b[0;34m:\u001b[0m\u001b[0;34m\u001b[0m\u001b[0;34m\u001b[0m\u001b[0m\n\u001b[1;32m    794\u001b[0m     \u001b[0;32mreturn\u001b[0m \u001b[0mtensor\u001b[0m\u001b[0;34m\u001b[0m\u001b[0;34m\u001b[0m\u001b[0m\n",
            "\u001b[0;32m/usr/local/lib/python3.6/dist-packages/tensorflow_core/python/framework/ops.py\u001b[0m in \u001b[0;36mnumpy\u001b[0;34m(self)\u001b[0m\n\u001b[1;32m    931\u001b[0m       \u001b[0mValueError\u001b[0m\u001b[0;34m:\u001b[0m \u001b[0;32mif\u001b[0m \u001b[0mthe\u001b[0m \u001b[0mtype\u001b[0m \u001b[0mof\u001b[0m \u001b[0mthis\u001b[0m \u001b[0mTensor\u001b[0m \u001b[0;32mis\u001b[0m \u001b[0;32mnot\u001b[0m \u001b[0mrepresentable\u001b[0m \u001b[0;32min\u001b[0m \u001b[0mnumpy\u001b[0m\u001b[0;34m.\u001b[0m\u001b[0;34m\u001b[0m\u001b[0;34m\u001b[0m\u001b[0m\n\u001b[1;32m    932\u001b[0m     \"\"\"\n\u001b[0;32m--> 933\u001b[0;31m     \u001b[0mmaybe_arr\u001b[0m \u001b[0;34m=\u001b[0m \u001b[0mself\u001b[0m\u001b[0;34m.\u001b[0m\u001b[0m_numpy\u001b[0m\u001b[0;34m(\u001b[0m\u001b[0;34m)\u001b[0m  \u001b[0;31m# pylint: disable=protected-access\u001b[0m\u001b[0;34m\u001b[0m\u001b[0;34m\u001b[0m\u001b[0m\n\u001b[0m\u001b[1;32m    934\u001b[0m     \u001b[0;32mreturn\u001b[0m \u001b[0mmaybe_arr\u001b[0m\u001b[0;34m.\u001b[0m\u001b[0mcopy\u001b[0m\u001b[0;34m(\u001b[0m\u001b[0;34m)\u001b[0m \u001b[0;32mif\u001b[0m \u001b[0misinstance\u001b[0m\u001b[0;34m(\u001b[0m\u001b[0mmaybe_arr\u001b[0m\u001b[0;34m,\u001b[0m \u001b[0mnp\u001b[0m\u001b[0;34m.\u001b[0m\u001b[0mndarray\u001b[0m\u001b[0;34m)\u001b[0m \u001b[0;32melse\u001b[0m \u001b[0mmaybe_arr\u001b[0m\u001b[0;34m\u001b[0m\u001b[0;34m\u001b[0m\u001b[0m\n\u001b[1;32m    935\u001b[0m \u001b[0;34m\u001b[0m\u001b[0m\n",
            "\u001b[0;31mKeyboardInterrupt\u001b[0m: "
          ]
        }
      ]
    },
    {
      "cell_type": "markdown",
      "metadata": {
        "id": "BXpG7g78cnQT",
        "colab_type": "text"
      },
      "source": [
        "В последнем случае SGD функция потерь сразу ушла в nan"
      ]
    },
    {
      "cell_type": "markdown",
      "metadata": {
        "id": "dTOHaG3HcujO",
        "colab_type": "text"
      },
      "source": [
        "Посмотрим то же самое для Adam:"
      ]
    },
    {
      "cell_type": "code",
      "metadata": {
        "id": "WJMfd48GYbml",
        "colab_type": "code",
        "outputId": "5593b2c6-fbb8-43cd-837b-85f819d579f1",
        "colab": {
          "base_uri": "https://localhost:8080/",
          "height": 539
        }
      },
      "source": [
        "model = build_model()\n",
        "\n",
        "model.compile(optimizer=keras.optimizers.Adam(),\n",
        "              loss='sparse_categorical_crossentropy',\n",
        "              metrics=['sparse_categorical_accuracy'])\n",
        "\n",
        "lr_finder = LRFinder(model)\n",
        "lr_finder.find(X_train, y_train, start_lr=0.0001, end_lr=100, batch_size=512, epochs=1)\n",
        "lr_finder.plot_loss(n_skip_beginning=1, n_skip_end=1, y_lim=(0, 25))\n",
        "plt.show()"
      ],
      "execution_count": 0,
      "outputs": [
        {
          "output_type": "stream",
          "text": [
            "Train on 52500 samples\n",
            "34816/52500 [==================>...........] - ETA: 1s - loss: 16.5278 - sparse_categorical_accuracy: 0.5558"
          ],
          "name": "stdout"
        },
        {
          "output_type": "display_data",
          "data": {
            "image/png": "[encoded data removed]",
            "text/plain": [
              "<Figure size 864x576 with 1 Axes>"
            ]
          },
          "metadata": {
            "tags": []
          }
        }
      ]
    },
    {
      "cell_type": "code",
      "metadata": {
        "id": "P5PoX9LtYko1",
        "colab_type": "code",
        "outputId": "c027562d-6687-4eb2-f9b1-6a5e876686d6",
        "colab": {
          "base_uri": "https://localhost:8080/",
          "height": 476
        }
      },
      "source": [
        "model = build_model()\n",
        "\n",
        "adam = keras.optimizers.Adam(learning_rate=1e-2)\n",
        "model.compile(optimizer=adam,\n",
        "              loss='sparse_categorical_crossentropy',\n",
        "              metrics=['sparse_categorical_accuracy'])\n",
        "\n",
        "checkpointer = keras.callbacks.ModelCheckpoint(filepath=\"revnet_with_dense_lr.hdf5\", \n",
        "                                               verbose=1, save_best_only=True)\n",
        "earlystopper = keras.callbacks.EarlyStopping(monitor=\"val_loss\", patience=5, \n",
        "                                             verbose=1)\n",
        "\n",
        "model.fit(X_train, y_train,\n",
        "          batch_size=32, epochs=40, \n",
        "          validation_data=(X_test, y_test),\n",
        "          callbacks=[checkpointer, earlystopper])"
      ],
      "execution_count": 0,
      "outputs": [
        {
          "output_type": "stream",
          "text": [
            "Train on 52500 samples, validate on 17500 samples\n",
            "Epoch 1/40\n",
            "52480/52500 [============================>.] - ETA: 0s - loss: 9.8800 - sparse_categorical_accuracy: 0.4767\n",
            "Epoch 00001: val_loss improved from inf to 1.23393, saving model to revnet_with_dense_lr.hdf5\n",
            "52500/52500 [==============================] - 12s 238us/sample - loss: 9.8766 - sparse_categorical_accuracy: 0.4767 - val_loss: 1.2339 - val_sparse_categorical_accuracy: 0.6214\n",
            "Epoch 2/40\n",
            "52288/52500 [============================>.] - ETA: 0s - loss: 1.7716 - sparse_categorical_accuracy: 0.3961\n",
            "Epoch 00002: val_loss did not improve from 1.23393\n",
            "52500/52500 [==============================] - 11s 218us/sample - loss: 1.7735 - sparse_categorical_accuracy: 0.3956 - val_loss: 2.0485 - val_sparse_categorical_accuracy: 0.2289\n",
            "Epoch 3/40\n",
            "52288/52500 [============================>.] - ETA: 0s - loss: 2.2555 - sparse_categorical_accuracy: 0.1552\n",
            "Epoch 00003: val_loss did not improve from 1.23393\n",
            "52500/52500 [==============================] - 11s 216us/sample - loss: 2.2557 - sparse_categorical_accuracy: 0.1550 - val_loss: 2.3018 - val_sparse_categorical_accuracy: 0.1130\n",
            "Epoch 4/40\n",
            "52320/52500 [============================>.] - ETA: 0s - loss: 2.3058 - sparse_categorical_accuracy: 0.1100\n",
            "Epoch 00004: val_loss did not improve from 1.23393\n",
            "52500/52500 [==============================] - 11s 215us/sample - loss: 2.3058 - sparse_categorical_accuracy: 0.1099 - val_loss: 2.3036 - val_sparse_categorical_accuracy: 0.1034\n",
            "Epoch 5/40\n",
            "52416/52500 [============================>.] - ETA: 0s - loss: 2.3029 - sparse_categorical_accuracy: 0.1097\n",
            "Epoch 00005: val_loss did not improve from 1.23393\n",
            "52500/52500 [==============================] - 11s 215us/sample - loss: 2.3029 - sparse_categorical_accuracy: 0.1096 - val_loss: 2.3023 - val_sparse_categorical_accuracy: 0.1130\n",
            "Epoch 6/40\n",
            "52288/52500 [============================>.] - ETA: 0s - loss: 2.3028 - sparse_categorical_accuracy: 0.1089\n",
            "Epoch 00006: val_loss did not improve from 1.23393\n",
            "52500/52500 [==============================] - 11s 216us/sample - loss: 2.3028 - sparse_categorical_accuracy: 0.1090 - val_loss: 2.3023 - val_sparse_categorical_accuracy: 0.1130\n",
            "Epoch 00006: early stopping\n"
          ],
          "name": "stdout"
        },
        {
          "output_type": "execute_result",
          "data": {
            "text/plain": [
              "<tensorflow.python.keras.callbacks.History at 0x7fce350bdc50>"
            ]
          },
          "metadata": {
            "tags": []
          },
          "execution_count": 190
        }
      ]
    },
    {
      "cell_type": "code",
      "metadata": {
        "id": "DQ9udU6wadH9",
        "colab_type": "code",
        "outputId": "88a8e694-ec2b-49fb-c6ae-6b88946af612",
        "colab": {
          "base_uri": "https://localhost:8080/",
          "height": 816
        }
      },
      "source": [
        "model = build_model()\n",
        "\n",
        "adam = keras.optimizers.Adam(learning_rate=1e-3)\n",
        "model.compile(optimizer=adam,\n",
        "              loss='sparse_categorical_crossentropy',\n",
        "              metrics=['sparse_categorical_accuracy'])\n",
        "\n",
        "checkpointer = keras.callbacks.ModelCheckpoint(filepath=\"revnet_with_dense_lr.hdf5\", \n",
        "                                               verbose=1, save_best_only=True)\n",
        "earlystopper = keras.callbacks.EarlyStopping(monitor=\"val_loss\", patience=5, \n",
        "                                             verbose=1)\n",
        "\n",
        "model.fit(X_train, y_train,\n",
        "          batch_size=32, epochs=40, \n",
        "          validation_data=(X_test, y_test),\n",
        "          callbacks=[checkpointer, earlystopper])"
      ],
      "execution_count": 0,
      "outputs": [
        {
          "output_type": "stream",
          "text": [
            "Train on 52500 samples, validate on 17500 samples\n",
            "Epoch 1/40\n",
            "52288/52500 [============================>.] - ETA: 0s - loss: 2.7939 - sparse_categorical_accuracy: 0.4979\n",
            "Epoch 00001: val_loss improved from inf to 1.18438, saving model to revnet_with_dense_lr.hdf5\n",
            "52500/52500 [==============================] - 13s 251us/sample - loss: 2.7865 - sparse_categorical_accuracy: 0.4986 - val_loss: 1.1844 - val_sparse_categorical_accuracy: 0.6418\n",
            "Epoch 2/40\n",
            "52416/52500 [============================>.] - ETA: 0s - loss: 0.9230 - sparse_categorical_accuracy: 0.7089\n",
            "Epoch 00002: val_loss improved from 1.18438 to 0.65049, saving model to revnet_with_dense_lr.hdf5\n",
            "52500/52500 [==============================] - 12s 222us/sample - loss: 0.9231 - sparse_categorical_accuracy: 0.7090 - val_loss: 0.6505 - val_sparse_categorical_accuracy: 0.7808\n",
            "Epoch 3/40\n",
            "52256/52500 [============================>.] - ETA: 0s - loss: 0.4861 - sparse_categorical_accuracy: 0.8548\n",
            "Epoch 00003: val_loss improved from 0.65049 to 0.30353, saving model to revnet_with_dense_lr.hdf5\n",
            "52500/52500 [==============================] - 12s 221us/sample - loss: 0.4860 - sparse_categorical_accuracy: 0.8552 - val_loss: 0.3035 - val_sparse_categorical_accuracy: 0.9257\n",
            "Epoch 4/40\n",
            "52448/52500 [============================>.] - ETA: 0s - loss: 0.2068 - sparse_categorical_accuracy: 0.9451\n",
            "Epoch 00004: val_loss did not improve from 0.30353\n",
            "52500/52500 [==============================] - 12s 220us/sample - loss: 0.2067 - sparse_categorical_accuracy: 0.9451 - val_loss: 0.5021 - val_sparse_categorical_accuracy: 0.8915\n",
            "Epoch 5/40\n",
            "52448/52500 [============================>.] - ETA: 0s - loss: 0.1503 - sparse_categorical_accuracy: 0.9595\n",
            "Epoch 00005: val_loss did not improve from 0.30353\n",
            "52500/52500 [==============================] - 12s 220us/sample - loss: 0.1503 - sparse_categorical_accuracy: 0.9595 - val_loss: 0.3837 - val_sparse_categorical_accuracy: 0.9026\n",
            "Epoch 6/40\n",
            "52224/52500 [============================>.] - ETA: 0s - loss: 0.1232 - sparse_categorical_accuracy: 0.9666\n",
            "Epoch 00006: val_loss improved from 0.30353 to 0.15186, saving model to revnet_with_dense_lr.hdf5\n",
            "52500/52500 [==============================] - 12s 220us/sample - loss: 0.1235 - sparse_categorical_accuracy: 0.9666 - val_loss: 0.1519 - val_sparse_categorical_accuracy: 0.9615\n",
            "Epoch 7/40\n",
            "52224/52500 [============================>.] - ETA: 0s - loss: 0.1195 - sparse_categorical_accuracy: 0.9683\n",
            "Epoch 00007: val_loss did not improve from 0.15186\n",
            "52500/52500 [==============================] - 12s 219us/sample - loss: 0.1198 - sparse_categorical_accuracy: 0.9682 - val_loss: 0.1818 - val_sparse_categorical_accuracy: 0.9511\n",
            "Epoch 8/40\n",
            "52384/52500 [============================>.] - ETA: 0s - loss: 0.1111 - sparse_categorical_accuracy: 0.9713\n",
            "Epoch 00008: val_loss did not improve from 0.15186\n",
            "52500/52500 [==============================] - 12s 221us/sample - loss: 0.1110 - sparse_categorical_accuracy: 0.9713 - val_loss: 0.8102 - val_sparse_categorical_accuracy: 0.8774\n",
            "Epoch 9/40\n",
            "52256/52500 [============================>.] - ETA: 0s - loss: 0.0936 - sparse_categorical_accuracy: 0.9743\n",
            "Epoch 00009: val_loss did not improve from 0.15186\n",
            "52500/52500 [==============================] - 12s 225us/sample - loss: 0.0937 - sparse_categorical_accuracy: 0.9744 - val_loss: 0.1918 - val_sparse_categorical_accuracy: 0.9578\n",
            "Epoch 10/40\n",
            "52416/52500 [============================>.] - ETA: 0s - loss: 0.0928 - sparse_categorical_accuracy: 0.9755\n",
            "Epoch 00010: val_loss did not improve from 0.15186\n",
            "52500/52500 [==============================] - 12s 222us/sample - loss: 0.0927 - sparse_categorical_accuracy: 0.9755 - val_loss: 0.7265 - val_sparse_categorical_accuracy: 0.8428\n",
            "Epoch 11/40\n",
            "52320/52500 [============================>.] - ETA: 0s - loss: 0.0746 - sparse_categorical_accuracy: 0.9802\n",
            "Epoch 00011: val_loss did not improve from 0.15186\n",
            "52500/52500 [==============================] - 12s 220us/sample - loss: 0.0752 - sparse_categorical_accuracy: 0.9801 - val_loss: 0.1966 - val_sparse_categorical_accuracy: 0.9609\n",
            "Epoch 00011: early stopping\n"
          ],
          "name": "stdout"
        },
        {
          "output_type": "execute_result",
          "data": {
            "text/plain": [
              "<tensorflow.python.keras.callbacks.History at 0x7fce39c58470>"
            ]
          },
          "metadata": {
            "tags": []
          },
          "execution_count": 194
        }
      ]
    },
    {
      "cell_type": "markdown",
      "metadata": {
        "id": "hLBpMVevczQO",
        "colab_type": "text"
      },
      "source": [
        "Лучше себя показало значение по умолчанию равное 0.001"
      ]
    },
    {
      "cell_type": "markdown",
      "metadata": {
        "id": "S6CI9tU3gS5P",
        "colab_type": "text"
      },
      "source": [
        "**Среднее, дисперсия и максимальное значение выходов каждого слоя** (https://stackoverflow.com/questions/41711190/keras-how-to-get-the-output-of-each-layer):"
      ]
    },
    {
      "cell_type": "code",
      "metadata": {
        "id": "Dl_vfA1bgYPo",
        "colab_type": "code",
        "colab": {}
      },
      "source": [
        "def count_output_stats(model, data):\n",
        "    inp = model.input                                         \n",
        "    outputs = [layer.output for layer in model.layers]\n",
        "    functors = [K.function([inp], [out]) for out in outputs]   \n",
        "\n",
        "    layer_outs = np.array([func(data)[0] for func in functors])\n",
        "\n",
        "    print(\"Layer_name     Mean      Std     AbsMax\")\n",
        "    for out, layer in zip(layer_outs, model.layers):\n",
        "        print(layer.name, np.mean(out), np.std(out), np.max(np.abs(out)))"
      ],
      "execution_count": 0,
      "outputs": []
    },
    {
      "cell_type": "code",
      "metadata": {
        "id": "98xYyqdDg3iE",
        "colab_type": "code",
        "outputId": "886f4a39-8d45-4d93-b709-8178b96cf60e",
        "colab": {
          "base_uri": "https://localhost:8080/",
          "height": 425
        }
      },
      "source": [
        "model = keras.models.load_model('revnet_with_dense.hdf5')\n",
        "count_output_stats(model, X_train[:32])"
      ],
      "execution_count": 0,
      "outputs": [
        {
          "output_type": "stream",
          "text": [
            "Layer_name     Mean      Std     AbsMax\n",
            "input_26 33.669403 78.76575 255.0\n",
            "conv2d_125 0.34469685 3.6137059 25.740976\n",
            "tf_op_layer_split_25 0.34469682 3.6137064 25.740976\n",
            "batch_normalization_100 -0.040776733 1.0181673 3.634192\n",
            "activation_147 0.3284836 0.7104299 3.634192\n",
            "conv2d_126 -0.20385407 3.2157915 20.416842\n",
            "batch_normalization_101 -0.18014385 1.0640172 5.8735495\n",
            "activation_148 0.23189177 0.664201 5.593438\n",
            "conv2d_127 -0.06973644 2.491622 19.98863\n",
            "tf_op_layer_add_50 0.32768622 2.2203338 17.570183\n",
            "batch_normalization_102 -0.147246 0.9671924 8.543778\n",
            "activation_149 0.22942124 0.66501045 8.543778\n",
            "conv2d_128 0.060606577 2.08692 17.628712\n",
            "batch_normalization_103 -0.20750129 1.1196847 8.575382\n",
            "activation_150 0.22977695 0.7793017 8.126232\n",
            "conv2d_129 -0.10059774 3.0193844 30.934013\n",
            "tf_op_layer_add_51 0.19137326 2.74274 25.824512\n",
            "tf_op_layer_concat_25 0.2595297 2.496176 25.824512\n",
            "flatten_25 0.2595297 2.496176 25.824512\n",
            "dense_44 -149.66223 137.3638 826.3128\n",
            "activation_151 3.0253463 26.151455 470.04523\n",
            "dense_45 18.37853 13.165466 72.750946\n",
            "activation_152 0.1 0.2960115 1.0\n"
          ],
          "name": "stdout"
        }
      ]
    },
    {
      "cell_type": "markdown",
      "metadata": {
        "id": "Dj1NBrltOKK3",
        "colab_type": "text"
      },
      "source": [
        "**Grad norms** (https://stackoverflow.com/questions/57759635/get-gradients-with-keras-tensorflow-2-0):"
      ]
    },
    {
      "cell_type": "code",
      "metadata": {
        "id": "oaGQWyfnR9R4",
        "colab_type": "code",
        "colab": {}
      },
      "source": [
        "class GradientCallback(tf.keras.callbacks.Callback):\n",
        "\n",
        "    def on_batch_end(self, batch, logs=None):\n",
        "        loss = self.model.total_loss\n",
        "        optimizer = self.model.optimizer\n",
        "        gradients = optimizer.get_gradients(loss, self.model.trainable_weights)\n",
        "        for t in gradients:\n",
        "            print('Tensor: {}'.format(t.name))\n",
        "            print('{}\\n'.format(t.numpy()[:10]))"
      ],
      "execution_count": 0,
      "outputs": []
    },
    {
      "cell_type": "markdown",
      "metadata": {
        "id": "1dEOkVyusYry",
        "colab_type": "text"
      },
      "source": [
        "Данный код кидает ошибку:"
      ]
    },
    {
      "cell_type": "code",
      "metadata": {
        "id": "BKnOlHshsSoe",
        "colab_type": "code",
        "colab": {
          "base_uri": "https://localhost:8080/",
          "height": 357
        },
        "outputId": "4283ff5e-e2ab-43c4-fc65-6be0d468af16"
      },
      "source": [
        "model = build_model()\n",
        "\n",
        "adam = keras.optimizers.Adam()\n",
        "model.compile(optimizer=adam,\n",
        "              loss='sparse_categorical_crossentropy',\n",
        "              metrics=['sparse_categorical_accuracy'])\n",
        "\n",
        "gradient_callback = GradientCallback()\n",
        "\n",
        "model.fit(X_train, y_train,\n",
        "          batch_size=32, epochs=1, \n",
        "          validation_data=(X_test, y_test),\n",
        "          callbacks=[gradient_callback])"
      ],
      "execution_count": 90,
      "outputs": [
        {
          "output_type": "stream",
          "text": [
            "Train on 52500 samples, validate on 17500 samples\n",
            "Tensor: Adam/gradients_39/gradients/conv2d_161/Conv2D_grad/Conv2DBackpropFilter:0\n",
            "    0/52500 [..............................] - ETA: 0s"
          ],
          "name": "stdout"
        },
        {
          "output_type": "error",
          "ename": "AttributeError",
          "evalue": "ignored",
          "traceback": [
            "\u001b[0;31m---------------------------------------------------------------------------\u001b[0m",
            "\u001b[0;31mAttributeError\u001b[0m                            Traceback (most recent call last)",
            "\u001b[0;32m<ipython-input-90-32cd0753b8ed>\u001b[0m in \u001b[0;36m<module>\u001b[0;34m()\u001b[0m\n\u001b[1;32m     11\u001b[0m           \u001b[0mbatch_size\u001b[0m\u001b[0;34m=\u001b[0m\u001b[0;36m32\u001b[0m\u001b[0;34m,\u001b[0m \u001b[0mepochs\u001b[0m\u001b[0;34m=\u001b[0m\u001b[0;36m1\u001b[0m\u001b[0;34m,\u001b[0m\u001b[0;34m\u001b[0m\u001b[0;34m\u001b[0m\u001b[0m\n\u001b[1;32m     12\u001b[0m           \u001b[0mvalidation_data\u001b[0m\u001b[0;34m=\u001b[0m\u001b[0;34m(\u001b[0m\u001b[0mX_test\u001b[0m\u001b[0;34m,\u001b[0m \u001b[0my_test\u001b[0m\u001b[0;34m)\u001b[0m\u001b[0;34m,\u001b[0m\u001b[0;34m\u001b[0m\u001b[0;34m\u001b[0m\u001b[0m\n\u001b[0;32m---> 13\u001b[0;31m           callbacks=[gradient_callback])\n\u001b[0m",
            "\u001b[0;32m/usr/local/lib/python3.6/dist-packages/tensorflow_core/python/keras/engine/training.py\u001b[0m in \u001b[0;36mfit\u001b[0;34m(self, x, y, batch_size, epochs, verbose, callbacks, validation_split, validation_data, shuffle, class_weight, sample_weight, initial_epoch, steps_per_epoch, validation_steps, validation_freq, max_queue_size, workers, use_multiprocessing, **kwargs)\u001b[0m\n\u001b[1;32m    726\u001b[0m         \u001b[0mmax_queue_size\u001b[0m\u001b[0;34m=\u001b[0m\u001b[0mmax_queue_size\u001b[0m\u001b[0;34m,\u001b[0m\u001b[0;34m\u001b[0m\u001b[0;34m\u001b[0m\u001b[0m\n\u001b[1;32m    727\u001b[0m         \u001b[0mworkers\u001b[0m\u001b[0;34m=\u001b[0m\u001b[0mworkers\u001b[0m\u001b[0;34m,\u001b[0m\u001b[0;34m\u001b[0m\u001b[0;34m\u001b[0m\u001b[0m\n\u001b[0;32m--> 728\u001b[0;31m         use_multiprocessing=use_multiprocessing)\n\u001b[0m\u001b[1;32m    729\u001b[0m \u001b[0;34m\u001b[0m\u001b[0m\n\u001b[1;32m    730\u001b[0m   def evaluate(self,\n",
            "\u001b[0;32m/usr/local/lib/python3.6/dist-packages/tensorflow_core/python/keras/engine/training_v2.py\u001b[0m in \u001b[0;36mfit\u001b[0;34m(self, model, x, y, batch_size, epochs, verbose, callbacks, validation_split, validation_data, shuffle, class_weight, sample_weight, initial_epoch, steps_per_epoch, validation_steps, validation_freq, **kwargs)\u001b[0m\n\u001b[1;32m    322\u001b[0m                 \u001b[0mmode\u001b[0m\u001b[0;34m=\u001b[0m\u001b[0mModeKeys\u001b[0m\u001b[0;34m.\u001b[0m\u001b[0mTRAIN\u001b[0m\u001b[0;34m,\u001b[0m\u001b[0;34m\u001b[0m\u001b[0;34m\u001b[0m\u001b[0m\n\u001b[1;32m    323\u001b[0m                 \u001b[0mtraining_context\u001b[0m\u001b[0;34m=\u001b[0m\u001b[0mtraining_context\u001b[0m\u001b[0;34m,\u001b[0m\u001b[0;34m\u001b[0m\u001b[0;34m\u001b[0m\u001b[0m\n\u001b[0;32m--> 324\u001b[0;31m                 total_epochs=epochs)\n\u001b[0m\u001b[1;32m    325\u001b[0m             \u001b[0mcbks\u001b[0m\u001b[0;34m.\u001b[0m\u001b[0mmake_logs\u001b[0m\u001b[0;34m(\u001b[0m\u001b[0mmodel\u001b[0m\u001b[0;34m,\u001b[0m \u001b[0mepoch_logs\u001b[0m\u001b[0;34m,\u001b[0m \u001b[0mtraining_result\u001b[0m\u001b[0;34m,\u001b[0m \u001b[0mModeKeys\u001b[0m\u001b[0;34m.\u001b[0m\u001b[0mTRAIN\u001b[0m\u001b[0;34m)\u001b[0m\u001b[0;34m\u001b[0m\u001b[0;34m\u001b[0m\u001b[0m\n\u001b[1;32m    326\u001b[0m \u001b[0;34m\u001b[0m\u001b[0m\n",
            "\u001b[0;32m/usr/local/lib/python3.6/dist-packages/tensorflow_core/python/keras/engine/training_v2.py\u001b[0m in \u001b[0;36mrun_one_epoch\u001b[0;34m(model, iterator, execution_function, dataset_size, batch_size, strategy, steps_per_epoch, num_samples, mode, training_context, total_epochs)\u001b[0m\n\u001b[1;32m    172\u001b[0m             batch_end=step * batch_size + current_batch_size)\n\u001b[1;32m    173\u001b[0m       \u001b[0mcbks\u001b[0m\u001b[0;34m.\u001b[0m\u001b[0mmake_logs\u001b[0m\u001b[0;34m(\u001b[0m\u001b[0mmodel\u001b[0m\u001b[0;34m,\u001b[0m \u001b[0mbatch_logs\u001b[0m\u001b[0;34m,\u001b[0m \u001b[0mbatch_outs\u001b[0m\u001b[0;34m,\u001b[0m \u001b[0mmode\u001b[0m\u001b[0;34m)\u001b[0m\u001b[0;34m\u001b[0m\u001b[0;34m\u001b[0m\u001b[0m\n\u001b[0;32m--> 174\u001b[0;31m       \u001b[0mstep\u001b[0m \u001b[0;34m+=\u001b[0m \u001b[0;36m1\u001b[0m\u001b[0;34m\u001b[0m\u001b[0;34m\u001b[0m\u001b[0m\n\u001b[0m\u001b[1;32m    175\u001b[0m \u001b[0;34m\u001b[0m\u001b[0m\n\u001b[1;32m    176\u001b[0m     \u001b[0;32mif\u001b[0m \u001b[0mcallbacks\u001b[0m\u001b[0;34m.\u001b[0m\u001b[0mmodel\u001b[0m\u001b[0;34m.\u001b[0m\u001b[0mstop_training\u001b[0m\u001b[0;34m:\u001b[0m\u001b[0;34m\u001b[0m\u001b[0;34m\u001b[0m\u001b[0m\n",
            "\u001b[0;32m/usr/lib/python3.6/contextlib.py\u001b[0m in \u001b[0;36m__exit__\u001b[0;34m(self, type, value, traceback)\u001b[0m\n\u001b[1;32m     86\u001b[0m         \u001b[0;32mif\u001b[0m \u001b[0mtype\u001b[0m \u001b[0;32mis\u001b[0m \u001b[0;32mNone\u001b[0m\u001b[0;34m:\u001b[0m\u001b[0;34m\u001b[0m\u001b[0;34m\u001b[0m\u001b[0m\n\u001b[1;32m     87\u001b[0m             \u001b[0;32mtry\u001b[0m\u001b[0;34m:\u001b[0m\u001b[0;34m\u001b[0m\u001b[0;34m\u001b[0m\u001b[0m\n\u001b[0;32m---> 88\u001b[0;31m                 \u001b[0mnext\u001b[0m\u001b[0;34m(\u001b[0m\u001b[0mself\u001b[0m\u001b[0;34m.\u001b[0m\u001b[0mgen\u001b[0m\u001b[0;34m)\u001b[0m\u001b[0;34m\u001b[0m\u001b[0;34m\u001b[0m\u001b[0m\n\u001b[0m\u001b[1;32m     89\u001b[0m             \u001b[0;32mexcept\u001b[0m \u001b[0mStopIteration\u001b[0m\u001b[0;34m:\u001b[0m\u001b[0;34m\u001b[0m\u001b[0;34m\u001b[0m\u001b[0m\n\u001b[1;32m     90\u001b[0m                 \u001b[0;32mreturn\u001b[0m \u001b[0;32mFalse\u001b[0m\u001b[0;34m\u001b[0m\u001b[0;34m\u001b[0m\u001b[0m\n",
            "\u001b[0;32m/usr/local/lib/python3.6/dist-packages/tensorflow_core/python/keras/engine/training_v2.py\u001b[0m in \u001b[0;36mon_batch\u001b[0;34m(self, step, mode, size)\u001b[0m\n\u001b[1;32m    698\u001b[0m       \u001b[0;32mif\u001b[0m \u001b[0;32mnot\u001b[0m \u001b[0mbatch_logs\u001b[0m\u001b[0;34m.\u001b[0m\u001b[0mpop\u001b[0m\u001b[0;34m(\u001b[0m\u001b[0;34m'data_exhausted'\u001b[0m\u001b[0;34m,\u001b[0m \u001b[0;32mFalse\u001b[0m\u001b[0;34m)\u001b[0m\u001b[0;34m:\u001b[0m\u001b[0;34m\u001b[0m\u001b[0;34m\u001b[0m\u001b[0m\n\u001b[1;32m    699\u001b[0m         self.callbacks._call_batch_hook(\n\u001b[0;32m--> 700\u001b[0;31m             mode, 'end', step, batch_logs)\n\u001b[0m\u001b[1;32m    701\u001b[0m         \u001b[0mself\u001b[0m\u001b[0;34m.\u001b[0m\u001b[0mprogbar\u001b[0m\u001b[0;34m.\u001b[0m\u001b[0mon_batch_end\u001b[0m\u001b[0;34m(\u001b[0m\u001b[0mstep\u001b[0m\u001b[0;34m,\u001b[0m \u001b[0mbatch_logs\u001b[0m\u001b[0;34m)\u001b[0m\u001b[0;34m\u001b[0m\u001b[0;34m\u001b[0m\u001b[0m\n",
            "\u001b[0;32m/usr/local/lib/python3.6/dist-packages/tensorflow_core/python/keras/callbacks.py\u001b[0m in \u001b[0;36m_call_batch_hook\u001b[0;34m(self, mode, hook, batch, logs)\u001b[0m\n\u001b[1;32m    233\u001b[0m     \u001b[0;32mfor\u001b[0m \u001b[0mcallback\u001b[0m \u001b[0;32min\u001b[0m \u001b[0mself\u001b[0m\u001b[0;34m.\u001b[0m\u001b[0mcallbacks\u001b[0m\u001b[0;34m:\u001b[0m\u001b[0;34m\u001b[0m\u001b[0;34m\u001b[0m\u001b[0m\n\u001b[1;32m    234\u001b[0m       \u001b[0mbatch_hook\u001b[0m \u001b[0;34m=\u001b[0m \u001b[0mgetattr\u001b[0m\u001b[0;34m(\u001b[0m\u001b[0mcallback\u001b[0m\u001b[0;34m,\u001b[0m \u001b[0mhook_name\u001b[0m\u001b[0;34m)\u001b[0m\u001b[0;34m\u001b[0m\u001b[0;34m\u001b[0m\u001b[0m\n\u001b[0;32m--> 235\u001b[0;31m       \u001b[0mbatch_hook\u001b[0m\u001b[0;34m(\u001b[0m\u001b[0mbatch\u001b[0m\u001b[0;34m,\u001b[0m \u001b[0mlogs\u001b[0m\u001b[0;34m)\u001b[0m\u001b[0;34m\u001b[0m\u001b[0;34m\u001b[0m\u001b[0m\n\u001b[0m\u001b[1;32m    236\u001b[0m     \u001b[0mself\u001b[0m\u001b[0;34m.\u001b[0m\u001b[0m_delta_ts\u001b[0m\u001b[0;34m[\u001b[0m\u001b[0mhook_name\u001b[0m\u001b[0;34m]\u001b[0m\u001b[0;34m.\u001b[0m\u001b[0mappend\u001b[0m\u001b[0;34m(\u001b[0m\u001b[0mtime\u001b[0m\u001b[0;34m.\u001b[0m\u001b[0mtime\u001b[0m\u001b[0;34m(\u001b[0m\u001b[0;34m)\u001b[0m \u001b[0;34m-\u001b[0m \u001b[0mt_before_callbacks\u001b[0m\u001b[0;34m)\u001b[0m\u001b[0;34m\u001b[0m\u001b[0;34m\u001b[0m\u001b[0m\n\u001b[1;32m    237\u001b[0m \u001b[0;34m\u001b[0m\u001b[0m\n",
            "\u001b[0;32m/usr/local/lib/python3.6/dist-packages/tensorflow_core/python/keras/callbacks.py\u001b[0m in \u001b[0;36mon_train_batch_end\u001b[0;34m(self, batch, logs)\u001b[0m\n\u001b[1;32m    516\u001b[0m     \"\"\"\n\u001b[1;32m    517\u001b[0m     \u001b[0;31m# For backwards compatibility.\u001b[0m\u001b[0;34m\u001b[0m\u001b[0;34m\u001b[0m\u001b[0;34m\u001b[0m\u001b[0m\n\u001b[0;32m--> 518\u001b[0;31m     \u001b[0mself\u001b[0m\u001b[0;34m.\u001b[0m\u001b[0mon_batch_end\u001b[0m\u001b[0;34m(\u001b[0m\u001b[0mbatch\u001b[0m\u001b[0;34m,\u001b[0m \u001b[0mlogs\u001b[0m\u001b[0;34m=\u001b[0m\u001b[0mlogs\u001b[0m\u001b[0;34m)\u001b[0m\u001b[0;34m\u001b[0m\u001b[0;34m\u001b[0m\u001b[0m\n\u001b[0m\u001b[1;32m    519\u001b[0m \u001b[0;34m\u001b[0m\u001b[0m\n\u001b[1;32m    520\u001b[0m   \u001b[0;32mdef\u001b[0m \u001b[0mon_test_batch_begin\u001b[0m\u001b[0;34m(\u001b[0m\u001b[0mself\u001b[0m\u001b[0;34m,\u001b[0m \u001b[0mbatch\u001b[0m\u001b[0;34m,\u001b[0m \u001b[0mlogs\u001b[0m\u001b[0;34m=\u001b[0m\u001b[0;32mNone\u001b[0m\u001b[0;34m)\u001b[0m\u001b[0;34m:\u001b[0m\u001b[0;34m\u001b[0m\u001b[0;34m\u001b[0m\u001b[0m\n",
            "\u001b[0;32m<ipython-input-55-9554b4160830>\u001b[0m in \u001b[0;36mon_batch_end\u001b[0;34m(self, batch, logs)\u001b[0m\n\u001b[1;32m      7\u001b[0m         \u001b[0;32mfor\u001b[0m \u001b[0mt\u001b[0m \u001b[0;32min\u001b[0m \u001b[0mgradients\u001b[0m\u001b[0;34m:\u001b[0m\u001b[0;34m\u001b[0m\u001b[0;34m\u001b[0m\u001b[0m\n\u001b[1;32m      8\u001b[0m             \u001b[0mprint\u001b[0m\u001b[0;34m(\u001b[0m\u001b[0;34m'Tensor: {}'\u001b[0m\u001b[0;34m.\u001b[0m\u001b[0mformat\u001b[0m\u001b[0;34m(\u001b[0m\u001b[0mt\u001b[0m\u001b[0;34m.\u001b[0m\u001b[0mname\u001b[0m\u001b[0;34m)\u001b[0m\u001b[0;34m)\u001b[0m\u001b[0;34m\u001b[0m\u001b[0;34m\u001b[0m\u001b[0m\n\u001b[0;32m----> 9\u001b[0;31m             \u001b[0mprint\u001b[0m\u001b[0;34m(\u001b[0m\u001b[0;34m'{}\\n'\u001b[0m\u001b[0;34m.\u001b[0m\u001b[0mformat\u001b[0m\u001b[0;34m(\u001b[0m\u001b[0mt\u001b[0m\u001b[0;34m.\u001b[0m\u001b[0mnumpy\u001b[0m\u001b[0;34m(\u001b[0m\u001b[0;34m)\u001b[0m\u001b[0;34m[\u001b[0m\u001b[0;34m:\u001b[0m\u001b[0;36m10\u001b[0m\u001b[0;34m]\u001b[0m\u001b[0;34m)\u001b[0m\u001b[0;34m)\u001b[0m\u001b[0;34m\u001b[0m\u001b[0;34m\u001b[0m\u001b[0m\n\u001b[0m",
            "\u001b[0;31mAttributeError\u001b[0m: 'Tensor' object has no attribute 'numpy'"
          ]
        }
      ]
    },
    {
      "cell_type": "markdown",
      "metadata": {
        "id": "kPIp9mCtsbu6",
        "colab_type": "text"
      },
      "source": [
        "**Свой training loop** (https://www.tensorflow.org/guide/keras/train_and_evaluate):"
      ]
    },
    {
      "cell_type": "code",
      "metadata": {
        "id": "7QD5yF6-hPRC",
        "colab_type": "code",
        "colab": {}
      },
      "source": [
        "batch_size = 32\n",
        "train_dataset = tf.data.Dataset.from_tensor_slices((X_train, y_train))\n",
        "train_dataset = train_dataset.shuffle(buffer_size=1024).batch(batch_size)"
      ],
      "execution_count": 0,
      "outputs": []
    },
    {
      "cell_type": "code",
      "metadata": {
        "id": "hvzvPVQbhRwg",
        "colab_type": "code",
        "colab": {
          "base_uri": "https://localhost:8080/",
          "height": 1000
        },
        "outputId": "5aae9ae7-2ad2-4dc7-8c2a-1f8ad0ac103f"
      },
      "source": [
        "model = build_model()\n",
        "\n",
        "optimizer = keras.optimizers.Adam()\n",
        "# Instantiate a loss function.\n",
        "loss_fn = keras.losses.SparseCategoricalCrossentropy(from_logits=True)\n",
        "train_acc_metric = keras.metrics.SparseCategoricalAccuracy()\n",
        "\n",
        "epochs = 3\n",
        "for epoch in range(epochs):\n",
        "  print('Start of epoch %d' % (epoch,))\n",
        "\n",
        "  # Iterate over the batches of the dataset.\n",
        "  for step, (x_batch_train, y_batch_train) in enumerate(train_dataset):\n",
        "\n",
        "    # Open a GradientTape to record the operations run\n",
        "    # during the forward pass, which enables autodifferentiation.\n",
        "    with tf.GradientTape() as tape:\n",
        "\n",
        "      # Run the forward pass of the layer.\n",
        "      # The operations that the layer applies\n",
        "      # to its inputs are going to be recorded\n",
        "      # on the GradientTape.\n",
        "      logits = model(x_batch_train, training=True)  # Logits for this minibatch\n",
        "\n",
        "      # Compute the loss value for this minibatch.\n",
        "      loss_value = loss_fn(y_batch_train, logits)\n",
        "\n",
        "    # Use the gradient tape to automatically retrieve\n",
        "    # the gradients of the trainable variables with respect to the loss.\n",
        "    grads = tape.gradient(loss_value, model.trainable_weights)\n",
        "\n",
        "    # Run one step of gradient descent by updating\n",
        "    # the value of the variables to minimize the loss.\n",
        "    optimizer.apply_gradients(zip(grads, model.trainable_weights))\n",
        "\n",
        "    # Log every 200 batches.\n",
        "    if step % 200 == 0:\n",
        "        print(logits)\n",
        "        print(y_batch_train)\n",
        "        print(train_acc_metric(y_batch_train, logits))\n",
        "        print([tf.norm(grad).numpy() for grad in grads])\n",
        "        print('Training loss (for one batch) at step %s: %s' % (step, float(loss_value)))\n",
        "        print('Seen so far: %s samples' % ((step + 1) * 64))\n",
        "\n",
        "  train_acc = train_acc_metric.result()\n",
        "  print('Training acc over epoch: %s' % (float(train_acc),))"
      ],
      "execution_count": 96,
      "outputs": [
        {
          "output_type": "stream",
          "text": [
            "Start of epoch 0\n",
            "WARNING:tensorflow:Layer conv2d_191 is casting an input tensor from dtype float64 to the layer's dtype of float32, which is new behavior in TensorFlow 2.  The layer has dtype float32 because it's dtype defaults to floatx.\n",
            "\n",
            "If you intended to run this layer in float32, you can safely ignore this warning. If in doubt, this warning is likely only an issue if you are porting a TensorFlow 1.X model to TensorFlow 2.\n",
            "\n",
            "To change all layers to have dtype float64 by default, call `tf.keras.backend.set_floatx('float64')`. To change just this layer, pass dtype='float64' to the layer constructor. If you are the author of this layer, you can disable autocasting by passing autocast=False to the base Layer constructor.\n",
            "\n",
            "tf.Tensor(\n",
            "[[0.0000000e+00 0.0000000e+00 0.0000000e+00 0.0000000e+00 0.0000000e+00\n",
            "  0.0000000e+00 1.0000000e+00 0.0000000e+00 0.0000000e+00 0.0000000e+00]\n",
            " [0.0000000e+00 0.0000000e+00 1.0002707e-06 6.7088198e-36 4.2565485e-15\n",
            "  0.0000000e+00 9.9999905e-01 0.0000000e+00 0.0000000e+00 0.0000000e+00]\n",
            " [0.0000000e+00 2.9756083e-26 1.5139476e-26 0.0000000e+00 3.6670054e-19\n",
            "  0.0000000e+00 1.0000000e+00 0.0000000e+00 0.0000000e+00 0.0000000e+00]\n",
            " [0.0000000e+00 0.0000000e+00 0.0000000e+00 0.0000000e+00 1.0000000e+00\n",
            "  0.0000000e+00 0.0000000e+00 0.0000000e+00 0.0000000e+00 0.0000000e+00]\n",
            " [0.0000000e+00 0.0000000e+00 0.0000000e+00 0.0000000e+00 0.0000000e+00\n",
            "  0.0000000e+00 1.0000000e+00 0.0000000e+00 0.0000000e+00 0.0000000e+00]\n",
            " [6.4650535e-26 2.3626639e-17 5.6370819e-22 1.2625733e-27 1.0000000e+00\n",
            "  0.0000000e+00 1.0716489e-15 0.0000000e+00 0.0000000e+00 0.0000000e+00]\n",
            " [7.3712614e-23 1.8215855e-25 9.8305658e-21 8.9329418e-17 5.4953741e-08\n",
            "  6.0525006e-24 1.0000000e+00 0.0000000e+00 0.0000000e+00 4.0624882e-20]\n",
            " [0.0000000e+00 2.7644319e-33 5.6355353e-04 3.5887173e-18 5.5754013e-02\n",
            "  2.6804283e-36 9.4368237e-01 0.0000000e+00 4.0526140e-32 0.0000000e+00]\n",
            " [1.0456518e-28 2.2533155e-26 2.4838734e-10 0.0000000e+00 6.0918111e-08\n",
            "  0.0000000e+00 9.9999988e-01 0.0000000e+00 0.0000000e+00 1.7276265e-16]\n",
            " [0.0000000e+00 0.0000000e+00 7.5343246e-32 5.9195249e-36 7.4284136e-18\n",
            "  0.0000000e+00 1.0000000e+00 0.0000000e+00 0.0000000e+00 7.4575365e-35]\n",
            " [3.7593583e-12 1.8031342e-04 9.9980110e-01 2.2685747e-16 1.8361545e-05\n",
            "  3.7961941e-30 1.9537748e-07 2.4551858e-26 2.9053081e-22 1.9616034e-31]\n",
            " [0.0000000e+00 3.8132529e-21 3.7113795e-33 0.0000000e+00 3.5560515e-21\n",
            "  0.0000000e+00 1.0000000e+00 0.0000000e+00 0.0000000e+00 5.4826787e-33]\n",
            " [0.0000000e+00 0.0000000e+00 0.0000000e+00 0.0000000e+00 3.3503658e-35\n",
            "  0.0000000e+00 1.0000000e+00 3.6362689e-38 0.0000000e+00 0.0000000e+00]\n",
            " [0.0000000e+00 0.0000000e+00 3.7800752e-12 0.0000000e+00 0.0000000e+00\n",
            "  0.0000000e+00 1.0000000e+00 0.0000000e+00 0.0000000e+00 2.6834527e-34]\n",
            " [0.0000000e+00 0.0000000e+00 0.0000000e+00 0.0000000e+00 2.2412107e-05\n",
            "  0.0000000e+00 9.9997759e-01 0.0000000e+00 0.0000000e+00 2.8223993e-36]\n",
            " [0.0000000e+00 0.0000000e+00 1.5448382e-34 0.0000000e+00 0.0000000e+00\n",
            "  0.0000000e+00 1.0000000e+00 0.0000000e+00 0.0000000e+00 0.0000000e+00]\n",
            " [4.6839746e-38 2.3158194e-15 2.3702422e-28 0.0000000e+00 9.5751759e-08\n",
            "  0.0000000e+00 9.9999988e-01 1.7171359e-21 5.4475660e-27 0.0000000e+00]\n",
            " [2.2200959e-22 1.2768926e-32 7.2055088e-30 0.0000000e+00 0.0000000e+00\n",
            "  0.0000000e+00 1.0000000e+00 0.0000000e+00 0.0000000e+00 2.3005429e-30]\n",
            " [0.0000000e+00 0.0000000e+00 0.0000000e+00 0.0000000e+00 1.0000000e+00\n",
            "  0.0000000e+00 0.0000000e+00 0.0000000e+00 0.0000000e+00 0.0000000e+00]\n",
            " [2.3461981e-13 1.1116115e-22 7.1642659e-18 0.0000000e+00 4.6180170e-03\n",
            "  0.0000000e+00 9.9538201e-01 1.7562589e-21 8.2167463e-20 0.0000000e+00]\n",
            " [0.0000000e+00 3.9903037e-26 2.2223317e-38 0.0000000e+00 4.4080370e-14\n",
            "  0.0000000e+00 1.0000000e+00 0.0000000e+00 0.0000000e+00 5.0733717e-20]\n",
            " [2.1969882e-28 1.1432875e-36 1.3941095e-23 0.0000000e+00 6.0196676e-08\n",
            "  0.0000000e+00 9.9999988e-01 2.0477942e-36 3.2845326e-37 0.0000000e+00]\n",
            " [2.9395454e-22 4.4120375e-23 2.4602186e-36 0.0000000e+00 1.5737050e-25\n",
            "  6.8423952e-22 1.0000000e+00 0.0000000e+00 0.0000000e+00 1.4264596e-12]\n",
            " [0.0000000e+00 3.1670830e-33 4.2137231e-07 0.0000000e+00 1.8404728e-16\n",
            "  0.0000000e+00 9.9999952e-01 0.0000000e+00 0.0000000e+00 0.0000000e+00]\n",
            " [0.0000000e+00 0.0000000e+00 0.0000000e+00 0.0000000e+00 1.0000000e+00\n",
            "  0.0000000e+00 0.0000000e+00 0.0000000e+00 0.0000000e+00 0.0000000e+00]\n",
            " [7.0416383e-21 9.9998927e-01 0.0000000e+00 0.0000000e+00 6.8185627e-06\n",
            "  0.0000000e+00 3.9496549e-06 1.0623609e-31 2.7352971e-18 3.0192421e-19]\n",
            " [0.0000000e+00 0.0000000e+00 0.0000000e+00 0.0000000e+00 0.0000000e+00\n",
            "  0.0000000e+00 1.0000000e+00 0.0000000e+00 0.0000000e+00 2.2967674e-34]\n",
            " [0.0000000e+00 0.0000000e+00 3.8883608e-35 0.0000000e+00 1.0000000e+00\n",
            "  0.0000000e+00 4.1830789e-26 0.0000000e+00 0.0000000e+00 0.0000000e+00]\n",
            " [0.0000000e+00 0.0000000e+00 0.0000000e+00 0.0000000e+00 9.0112850e-32\n",
            "  0.0000000e+00 1.0000000e+00 0.0000000e+00 0.0000000e+00 0.0000000e+00]\n",
            " [0.0000000e+00 0.0000000e+00 0.0000000e+00 1.0911789e-35 4.5479632e-14\n",
            "  0.0000000e+00 1.0000000e+00 0.0000000e+00 0.0000000e+00 4.3486585e-38]\n",
            " [0.0000000e+00 0.0000000e+00 0.0000000e+00 4.2511684e-36 1.0000000e+00\n",
            "  0.0000000e+00 2.8680055e-20 0.0000000e+00 0.0000000e+00 0.0000000e+00]\n",
            " [2.4696938e-23 5.0328367e-26 5.4173323e-04 4.1752633e-20 2.8077741e-08\n",
            "  0.0000000e+00 9.9945825e-01 4.7009000e-19 2.0540346e-31 1.1106700e-18]], shape=(32, 10), dtype=float32)\n",
            "tf.Tensor([4 5 4 3 9 3 4 8 0 4 0 4 7 9 7 4 1 2 2 1 7 1 2 6 0 8 2 3 8 4 3 1], shape=(32,), dtype=int64)\n",
            "tf.Tensor(0.03125, shape=(), dtype=float32)\n",
            "[0.081622936, 0.00047267502, 0.0002488517, 0.0001376378, 0.003949121, 2.303146e-10, 0.00028391797, 0.00028398997, 0.003458082, 0.00034699816, 0.0001399847, 0.000115477975, 0.0032244266, 1.0413615e-10, 0.0001751081, 0.00027046158, 0.0025780916, 0.00032095832, 2.065657, 0.00033085822, 0.12043433, 0.00033548393]\n",
            "Training loss (for one batch) at step 0: 2.4296319484710693\n",
            "Seen so far: 64 samples\n",
            "tf.Tensor(\n",
            "[[0. 0. 0. 0. 1. 0. 0. 0. 0. 0.]\n",
            " [0. 0. 0. 0. 1. 0. 0. 0. 0. 0.]\n",
            " [0. 0. 0. 0. 1. 0. 0. 0. 0. 0.]\n",
            " [0. 0. 0. 0. 1. 0. 0. 0. 0. 0.]\n",
            " [0. 0. 0. 0. 1. 0. 0. 0. 0. 0.]\n",
            " [0. 0. 0. 0. 1. 0. 0. 0. 0. 0.]\n",
            " [0. 0. 0. 0. 1. 0. 0. 0. 0. 0.]\n",
            " [0. 0. 0. 0. 1. 0. 0. 0. 0. 0.]\n",
            " [0. 0. 0. 0. 1. 0. 0. 0. 0. 0.]\n",
            " [0. 0. 0. 0. 1. 0. 0. 0. 0. 0.]\n",
            " [0. 0. 0. 0. 1. 0. 0. 0. 0. 0.]\n",
            " [0. 0. 0. 0. 1. 0. 0. 0. 0. 0.]\n",
            " [0. 0. 0. 0. 1. 0. 0. 0. 0. 0.]\n",
            " [0. 0. 0. 0. 1. 0. 0. 0. 0. 0.]\n",
            " [0. 0. 0. 0. 1. 0. 0. 0. 0. 0.]\n",
            " [0. 0. 0. 0. 1. 0. 0. 0. 0. 0.]\n",
            " [0. 0. 0. 0. 1. 0. 0. 0. 0. 0.]\n",
            " [0. 0. 0. 0. 1. 0. 0. 0. 0. 0.]\n",
            " [0. 0. 0. 0. 1. 0. 0. 0. 0. 0.]\n",
            " [0. 0. 0. 0. 1. 0. 0. 0. 0. 0.]\n",
            " [0. 0. 0. 0. 1. 0. 0. 0. 0. 0.]\n",
            " [0. 0. 0. 0. 1. 0. 0. 0. 0. 0.]\n",
            " [0. 0. 0. 0. 1. 0. 0. 0. 0. 0.]\n",
            " [0. 0. 0. 0. 1. 0. 0. 0. 0. 0.]\n",
            " [0. 0. 0. 0. 1. 0. 0. 0. 0. 0.]\n",
            " [0. 0. 0. 0. 1. 0. 0. 0. 0. 0.]\n",
            " [0. 0. 0. 0. 1. 0. 0. 0. 0. 0.]\n",
            " [0. 0. 0. 0. 1. 0. 0. 0. 0. 0.]\n",
            " [0. 0. 0. 0. 1. 0. 0. 0. 0. 0.]\n",
            " [0. 0. 0. 0. 1. 0. 0. 0. 0. 0.]\n",
            " [0. 0. 0. 0. 1. 0. 0. 0. 0. 0.]\n",
            " [0. 0. 0. 0. 1. 0. 0. 0. 0. 0.]], shape=(32, 10), dtype=float32)\n",
            "tf.Tensor([5 9 0 8 5 4 8 0 6 3 1 0 1 3 0 8 6 6 5 2 9 6 2 6 1 5 7 8 2 5 9 8], shape=(32,), dtype=int64)\n",
            "tf.Tensor(0.03125, shape=(), dtype=float32)\n",
            "[0.0, 0.0, 0.0, 0.0, 0.0, 0.0, 0.0, 0.0, 0.0, 0.0, 0.0, 0.0, 0.0, 0.0, 0.0, 0.0, 0.0, 0.0, 0.0, 0.0, 0.0, 0.0]\n",
            "Training loss (for one batch) at step 200: 2.4299001693725586\n",
            "Seen so far: 12864 samples\n"
          ],
          "name": "stdout"
        },
        {
          "output_type": "error",
          "ename": "KeyboardInterrupt",
          "evalue": "ignored",
          "traceback": [
            "\u001b[0;31m---------------------------------------------------------------------------\u001b[0m",
            "\u001b[0;31mKeyboardInterrupt\u001b[0m                         Traceback (most recent call last)",
            "\u001b[0;32m<ipython-input-96-e865cb9df944>\u001b[0m in \u001b[0;36m<module>\u001b[0;34m()\u001b[0m\n\u001b[1;32m     21\u001b[0m       \u001b[0;31m# to its inputs are going to be recorded\u001b[0m\u001b[0;34m\u001b[0m\u001b[0;34m\u001b[0m\u001b[0;34m\u001b[0m\u001b[0m\n\u001b[1;32m     22\u001b[0m       \u001b[0;31m# on the GradientTape.\u001b[0m\u001b[0;34m\u001b[0m\u001b[0;34m\u001b[0m\u001b[0;34m\u001b[0m\u001b[0m\n\u001b[0;32m---> 23\u001b[0;31m       \u001b[0mlogits\u001b[0m \u001b[0;34m=\u001b[0m \u001b[0mmodel\u001b[0m\u001b[0;34m(\u001b[0m\u001b[0mx_batch_train\u001b[0m\u001b[0;34m,\u001b[0m \u001b[0mtraining\u001b[0m\u001b[0;34m=\u001b[0m\u001b[0;32mTrue\u001b[0m\u001b[0;34m)\u001b[0m  \u001b[0;31m# Logits for this minibatch\u001b[0m\u001b[0;34m\u001b[0m\u001b[0;34m\u001b[0m\u001b[0m\n\u001b[0m\u001b[1;32m     24\u001b[0m \u001b[0;34m\u001b[0m\u001b[0m\n\u001b[1;32m     25\u001b[0m       \u001b[0;31m# Compute the loss value for this minibatch.\u001b[0m\u001b[0;34m\u001b[0m\u001b[0;34m\u001b[0m\u001b[0;34m\u001b[0m\u001b[0m\n",
            "\u001b[0;32m/usr/local/lib/python3.6/dist-packages/tensorflow_core/python/keras/engine/base_layer.py\u001b[0m in \u001b[0;36m__call__\u001b[0;34m(self, inputs, *args, **kwargs)\u001b[0m\n\u001b[1;32m    889\u001b[0m           with base_layer_utils.autocast_context_manager(\n\u001b[1;32m    890\u001b[0m               self._compute_dtype):\n\u001b[0;32m--> 891\u001b[0;31m             \u001b[0moutputs\u001b[0m \u001b[0;34m=\u001b[0m \u001b[0mself\u001b[0m\u001b[0;34m.\u001b[0m\u001b[0mcall\u001b[0m\u001b[0;34m(\u001b[0m\u001b[0mcast_inputs\u001b[0m\u001b[0;34m,\u001b[0m \u001b[0;34m*\u001b[0m\u001b[0margs\u001b[0m\u001b[0;34m,\u001b[0m \u001b[0;34m**\u001b[0m\u001b[0mkwargs\u001b[0m\u001b[0;34m)\u001b[0m\u001b[0;34m\u001b[0m\u001b[0;34m\u001b[0m\u001b[0m\n\u001b[0m\u001b[1;32m    892\u001b[0m           \u001b[0mself\u001b[0m\u001b[0;34m.\u001b[0m\u001b[0m_handle_activity_regularization\u001b[0m\u001b[0;34m(\u001b[0m\u001b[0minputs\u001b[0m\u001b[0;34m,\u001b[0m \u001b[0moutputs\u001b[0m\u001b[0;34m)\u001b[0m\u001b[0;34m\u001b[0m\u001b[0;34m\u001b[0m\u001b[0m\n\u001b[1;32m    893\u001b[0m           \u001b[0mself\u001b[0m\u001b[0;34m.\u001b[0m\u001b[0m_set_mask_metadata\u001b[0m\u001b[0;34m(\u001b[0m\u001b[0minputs\u001b[0m\u001b[0;34m,\u001b[0m \u001b[0moutputs\u001b[0m\u001b[0;34m,\u001b[0m \u001b[0minput_masks\u001b[0m\u001b[0;34m)\u001b[0m\u001b[0;34m\u001b[0m\u001b[0;34m\u001b[0m\u001b[0m\n",
            "\u001b[0;32m/usr/local/lib/python3.6/dist-packages/tensorflow_core/python/keras/engine/network.py\u001b[0m in \u001b[0;36mcall\u001b[0;34m(self, inputs, training, mask)\u001b[0m\n\u001b[1;32m    706\u001b[0m     return self._run_internal_graph(\n\u001b[1;32m    707\u001b[0m         \u001b[0minputs\u001b[0m\u001b[0;34m,\u001b[0m \u001b[0mtraining\u001b[0m\u001b[0;34m=\u001b[0m\u001b[0mtraining\u001b[0m\u001b[0;34m,\u001b[0m \u001b[0mmask\u001b[0m\u001b[0;34m=\u001b[0m\u001b[0mmask\u001b[0m\u001b[0;34m,\u001b[0m\u001b[0;34m\u001b[0m\u001b[0;34m\u001b[0m\u001b[0m\n\u001b[0;32m--> 708\u001b[0;31m         convert_kwargs_to_constants=base_layer_utils.call_context().saving)\n\u001b[0m\u001b[1;32m    709\u001b[0m \u001b[0;34m\u001b[0m\u001b[0m\n\u001b[1;32m    710\u001b[0m   \u001b[0;32mdef\u001b[0m \u001b[0mcompute_output_shape\u001b[0m\u001b[0;34m(\u001b[0m\u001b[0mself\u001b[0m\u001b[0;34m,\u001b[0m \u001b[0minput_shape\u001b[0m\u001b[0;34m)\u001b[0m\u001b[0;34m:\u001b[0m\u001b[0;34m\u001b[0m\u001b[0;34m\u001b[0m\u001b[0m\n",
            "\u001b[0;32m/usr/local/lib/python3.6/dist-packages/tensorflow_core/python/keras/engine/network.py\u001b[0m in \u001b[0;36m_run_internal_graph\u001b[0;34m(self, inputs, training, mask, convert_kwargs_to_constants)\u001b[0m\n\u001b[1;32m    858\u001b[0m \u001b[0;34m\u001b[0m\u001b[0m\n\u001b[1;32m    859\u001b[0m           \u001b[0;31m# Compute outputs.\u001b[0m\u001b[0;34m\u001b[0m\u001b[0;34m\u001b[0m\u001b[0;34m\u001b[0m\u001b[0m\n\u001b[0;32m--> 860\u001b[0;31m           \u001b[0moutput_tensors\u001b[0m \u001b[0;34m=\u001b[0m \u001b[0mlayer\u001b[0m\u001b[0;34m(\u001b[0m\u001b[0mcomputed_tensors\u001b[0m\u001b[0;34m,\u001b[0m \u001b[0;34m**\u001b[0m\u001b[0mkwargs\u001b[0m\u001b[0;34m)\u001b[0m\u001b[0;34m\u001b[0m\u001b[0;34m\u001b[0m\u001b[0m\n\u001b[0m\u001b[1;32m    861\u001b[0m \u001b[0;34m\u001b[0m\u001b[0m\n\u001b[1;32m    862\u001b[0m           \u001b[0;31m# Update tensor_dict.\u001b[0m\u001b[0;34m\u001b[0m\u001b[0;34m\u001b[0m\u001b[0;34m\u001b[0m\u001b[0m\n",
            "\u001b[0;32m/usr/local/lib/python3.6/dist-packages/tensorflow_core/python/keras/engine/base_layer.py\u001b[0m in \u001b[0;36m__call__\u001b[0;34m(self, inputs, *args, **kwargs)\u001b[0m\n\u001b[1;32m    889\u001b[0m           with base_layer_utils.autocast_context_manager(\n\u001b[1;32m    890\u001b[0m               self._compute_dtype):\n\u001b[0;32m--> 891\u001b[0;31m             \u001b[0moutputs\u001b[0m \u001b[0;34m=\u001b[0m \u001b[0mself\u001b[0m\u001b[0;34m.\u001b[0m\u001b[0mcall\u001b[0m\u001b[0;34m(\u001b[0m\u001b[0mcast_inputs\u001b[0m\u001b[0;34m,\u001b[0m \u001b[0;34m*\u001b[0m\u001b[0margs\u001b[0m\u001b[0;34m,\u001b[0m \u001b[0;34m**\u001b[0m\u001b[0mkwargs\u001b[0m\u001b[0;34m)\u001b[0m\u001b[0;34m\u001b[0m\u001b[0;34m\u001b[0m\u001b[0m\n\u001b[0m\u001b[1;32m    892\u001b[0m           \u001b[0mself\u001b[0m\u001b[0;34m.\u001b[0m\u001b[0m_handle_activity_regularization\u001b[0m\u001b[0;34m(\u001b[0m\u001b[0minputs\u001b[0m\u001b[0;34m,\u001b[0m \u001b[0moutputs\u001b[0m\u001b[0;34m)\u001b[0m\u001b[0;34m\u001b[0m\u001b[0;34m\u001b[0m\u001b[0m\n\u001b[1;32m    893\u001b[0m           \u001b[0mself\u001b[0m\u001b[0;34m.\u001b[0m\u001b[0m_set_mask_metadata\u001b[0m\u001b[0;34m(\u001b[0m\u001b[0minputs\u001b[0m\u001b[0;34m,\u001b[0m \u001b[0moutputs\u001b[0m\u001b[0;34m,\u001b[0m \u001b[0minput_masks\u001b[0m\u001b[0;34m)\u001b[0m\u001b[0;34m\u001b[0m\u001b[0;34m\u001b[0m\u001b[0m\n",
            "\u001b[0;32m/usr/local/lib/python3.6/dist-packages/tensorflow_core/python/keras/engine/base_layer.py\u001b[0m in \u001b[0;36mcall\u001b[0;34m(self, inputs)\u001b[0m\n\u001b[1;32m   2481\u001b[0m   \u001b[0;32mdef\u001b[0m \u001b[0mcall\u001b[0m\u001b[0;34m(\u001b[0m\u001b[0mself\u001b[0m\u001b[0;34m,\u001b[0m \u001b[0minputs\u001b[0m\u001b[0;34m)\u001b[0m\u001b[0;34m:\u001b[0m\u001b[0;34m\u001b[0m\u001b[0;34m\u001b[0m\u001b[0m\n\u001b[1;32m   2482\u001b[0m     \u001b[0;32mif\u001b[0m \u001b[0mcontext\u001b[0m\u001b[0;34m.\u001b[0m\u001b[0mexecuting_eagerly\u001b[0m\u001b[0;34m(\u001b[0m\u001b[0;34m)\u001b[0m\u001b[0;34m:\u001b[0m\u001b[0;34m\u001b[0m\u001b[0;34m\u001b[0m\u001b[0m\n\u001b[0;32m-> 2483\u001b[0;31m       \u001b[0;32mreturn\u001b[0m \u001b[0mself\u001b[0m\u001b[0;34m.\u001b[0m\u001b[0m_defun_call\u001b[0m\u001b[0;34m(\u001b[0m\u001b[0minputs\u001b[0m\u001b[0;34m)\u001b[0m\u001b[0;34m\u001b[0m\u001b[0;34m\u001b[0m\u001b[0m\n\u001b[0m\u001b[1;32m   2484\u001b[0m     \u001b[0;32mreturn\u001b[0m \u001b[0mself\u001b[0m\u001b[0;34m.\u001b[0m\u001b[0m_make_op\u001b[0m\u001b[0;34m(\u001b[0m\u001b[0minputs\u001b[0m\u001b[0;34m)\u001b[0m\u001b[0;34m\u001b[0m\u001b[0;34m\u001b[0m\u001b[0m\n\u001b[1;32m   2485\u001b[0m \u001b[0;34m\u001b[0m\u001b[0m\n",
            "\u001b[0;32m/usr/local/lib/python3.6/dist-packages/tensorflow_core/python/eager/function.py\u001b[0m in \u001b[0;36m__call__\u001b[0;34m(self, *args, **kwargs)\u001b[0m\n\u001b[1;32m   1821\u001b[0m     \u001b[0;34m\"\"\"Calls a graph function specialized to the inputs.\"\"\"\u001b[0m\u001b[0;34m\u001b[0m\u001b[0;34m\u001b[0m\u001b[0m\n\u001b[1;32m   1822\u001b[0m     \u001b[0mgraph_function\u001b[0m\u001b[0;34m,\u001b[0m \u001b[0margs\u001b[0m\u001b[0;34m,\u001b[0m \u001b[0mkwargs\u001b[0m \u001b[0;34m=\u001b[0m \u001b[0mself\u001b[0m\u001b[0;34m.\u001b[0m\u001b[0m_maybe_define_function\u001b[0m\u001b[0;34m(\u001b[0m\u001b[0margs\u001b[0m\u001b[0;34m,\u001b[0m \u001b[0mkwargs\u001b[0m\u001b[0;34m)\u001b[0m\u001b[0;34m\u001b[0m\u001b[0;34m\u001b[0m\u001b[0m\n\u001b[0;32m-> 1823\u001b[0;31m     \u001b[0;32mreturn\u001b[0m \u001b[0mgraph_function\u001b[0m\u001b[0;34m.\u001b[0m\u001b[0m_filtered_call\u001b[0m\u001b[0;34m(\u001b[0m\u001b[0margs\u001b[0m\u001b[0;34m,\u001b[0m \u001b[0mkwargs\u001b[0m\u001b[0;34m)\u001b[0m  \u001b[0;31m# pylint: disable=protected-access\u001b[0m\u001b[0;34m\u001b[0m\u001b[0;34m\u001b[0m\u001b[0m\n\u001b[0m\u001b[1;32m   1824\u001b[0m \u001b[0;34m\u001b[0m\u001b[0m\n\u001b[1;32m   1825\u001b[0m   \u001b[0;34m@\u001b[0m\u001b[0mproperty\u001b[0m\u001b[0;34m\u001b[0m\u001b[0;34m\u001b[0m\u001b[0m\n",
            "\u001b[0;32m/usr/local/lib/python3.6/dist-packages/tensorflow_core/python/eager/function.py\u001b[0m in \u001b[0;36m_filtered_call\u001b[0;34m(self, args, kwargs)\u001b[0m\n\u001b[1;32m   1139\u001b[0m          if isinstance(t, (ops.Tensor,\n\u001b[1;32m   1140\u001b[0m                            resource_variable_ops.BaseResourceVariable))),\n\u001b[0;32m-> 1141\u001b[0;31m         self.captured_inputs)\n\u001b[0m\u001b[1;32m   1142\u001b[0m \u001b[0;34m\u001b[0m\u001b[0m\n\u001b[1;32m   1143\u001b[0m   \u001b[0;32mdef\u001b[0m \u001b[0m_call_flat\u001b[0m\u001b[0;34m(\u001b[0m\u001b[0mself\u001b[0m\u001b[0;34m,\u001b[0m \u001b[0margs\u001b[0m\u001b[0;34m,\u001b[0m \u001b[0mcaptured_inputs\u001b[0m\u001b[0;34m,\u001b[0m \u001b[0mcancellation_manager\u001b[0m\u001b[0;34m=\u001b[0m\u001b[0;32mNone\u001b[0m\u001b[0;34m)\u001b[0m\u001b[0;34m:\u001b[0m\u001b[0;34m\u001b[0m\u001b[0;34m\u001b[0m\u001b[0m\n",
            "\u001b[0;32m/usr/local/lib/python3.6/dist-packages/tensorflow_core/python/eager/function.py\u001b[0m in \u001b[0;36m_call_flat\u001b[0;34m(self, args, captured_inputs, cancellation_manager)\u001b[0m\n\u001b[1;32m   1222\u001b[0m     \u001b[0;32mif\u001b[0m \u001b[0mexecuting_eagerly\u001b[0m\u001b[0;34m:\u001b[0m\u001b[0;34m\u001b[0m\u001b[0;34m\u001b[0m\u001b[0m\n\u001b[1;32m   1223\u001b[0m       flat_outputs = forward_function.call(\n\u001b[0;32m-> 1224\u001b[0;31m           ctx, args, cancellation_manager=cancellation_manager)\n\u001b[0m\u001b[1;32m   1225\u001b[0m     \u001b[0;32melse\u001b[0m\u001b[0;34m:\u001b[0m\u001b[0;34m\u001b[0m\u001b[0;34m\u001b[0m\u001b[0m\n\u001b[1;32m   1226\u001b[0m       \u001b[0mgradient_name\u001b[0m \u001b[0;34m=\u001b[0m \u001b[0mself\u001b[0m\u001b[0;34m.\u001b[0m\u001b[0m_delayed_rewrite_functions\u001b[0m\u001b[0;34m.\u001b[0m\u001b[0mregister\u001b[0m\u001b[0;34m(\u001b[0m\u001b[0;34m)\u001b[0m\u001b[0;34m\u001b[0m\u001b[0;34m\u001b[0m\u001b[0m\n",
            "\u001b[0;32m/usr/local/lib/python3.6/dist-packages/tensorflow_core/python/eager/function.py\u001b[0m in \u001b[0;36mcall\u001b[0;34m(self, ctx, args, cancellation_manager)\u001b[0m\n\u001b[1;32m    509\u001b[0m               \u001b[0minputs\u001b[0m\u001b[0;34m=\u001b[0m\u001b[0margs\u001b[0m\u001b[0;34m,\u001b[0m\u001b[0;34m\u001b[0m\u001b[0;34m\u001b[0m\u001b[0m\n\u001b[1;32m    510\u001b[0m               \u001b[0mattrs\u001b[0m\u001b[0;34m=\u001b[0m\u001b[0;34m(\u001b[0m\u001b[0;34m\"executor_type\"\u001b[0m\u001b[0;34m,\u001b[0m \u001b[0mexecutor_type\u001b[0m\u001b[0;34m,\u001b[0m \u001b[0;34m\"config_proto\"\u001b[0m\u001b[0;34m,\u001b[0m \u001b[0mconfig\u001b[0m\u001b[0;34m)\u001b[0m\u001b[0;34m,\u001b[0m\u001b[0;34m\u001b[0m\u001b[0;34m\u001b[0m\u001b[0m\n\u001b[0;32m--> 511\u001b[0;31m               ctx=ctx)\n\u001b[0m\u001b[1;32m    512\u001b[0m         \u001b[0;32melse\u001b[0m\u001b[0;34m:\u001b[0m\u001b[0;34m\u001b[0m\u001b[0;34m\u001b[0m\u001b[0m\n\u001b[1;32m    513\u001b[0m           outputs = execute.execute_with_cancellation(\n",
            "\u001b[0;32m/usr/local/lib/python3.6/dist-packages/tensorflow_core/python/eager/execute.py\u001b[0m in \u001b[0;36mquick_execute\u001b[0;34m(op_name, num_outputs, inputs, attrs, ctx, name)\u001b[0m\n\u001b[1;32m     59\u001b[0m     tensors = pywrap_tensorflow.TFE_Py_Execute(ctx._handle, device_name,\n\u001b[1;32m     60\u001b[0m                                                \u001b[0mop_name\u001b[0m\u001b[0;34m,\u001b[0m \u001b[0minputs\u001b[0m\u001b[0;34m,\u001b[0m \u001b[0mattrs\u001b[0m\u001b[0;34m,\u001b[0m\u001b[0;34m\u001b[0m\u001b[0;34m\u001b[0m\u001b[0m\n\u001b[0;32m---> 61\u001b[0;31m                                                num_outputs)\n\u001b[0m\u001b[1;32m     62\u001b[0m   \u001b[0;32mexcept\u001b[0m \u001b[0mcore\u001b[0m\u001b[0;34m.\u001b[0m\u001b[0m_NotOkStatusException\u001b[0m \u001b[0;32mas\u001b[0m \u001b[0me\u001b[0m\u001b[0;34m:\u001b[0m\u001b[0;34m\u001b[0m\u001b[0;34m\u001b[0m\u001b[0m\n\u001b[1;32m     63\u001b[0m     \u001b[0;32mif\u001b[0m \u001b[0mname\u001b[0m \u001b[0;32mis\u001b[0m \u001b[0;32mnot\u001b[0m \u001b[0;32mNone\u001b[0m\u001b[0;34m:\u001b[0m\u001b[0;34m\u001b[0m\u001b[0;34m\u001b[0m\u001b[0m\n",
            "\u001b[0;31mKeyboardInterrupt\u001b[0m: "
          ]
        }
      ]
    },
    {
      "cell_type": "markdown",
      "metadata": {
        "id": "QBh1drjashk3",
        "colab_type": "text"
      },
      "source": [
        "Непонятно почему вырождается в константную модель, хотя вроде с теми же оптимизаторами и функциями потерь обычный fit работает нормально:"
      ]
    },
    {
      "cell_type": "code",
      "metadata": {
        "id": "atYliHWGSVTN",
        "colab_type": "code",
        "colab": {
          "base_uri": "https://localhost:8080/",
          "height": 68
        },
        "outputId": "604ddcfe-b514-4dce-c2a3-661fdc206484"
      },
      "source": [
        "model = build_model()\n",
        "\n",
        "adam = keras.optimizers.Adam()\n",
        "model.compile(optimizer=adam,\n",
        "              loss='sparse_categorical_crossentropy',\n",
        "              metrics=['sparse_categorical_accuracy'])\n",
        "\n",
        "model.fit(X_train, y_train,\n",
        "          batch_size=32, epochs=1, \n",
        "          validation_data=(X_test, y_test))"
      ],
      "execution_count": 85,
      "outputs": [
        {
          "output_type": "stream",
          "text": [
            "Train on 52500 samples, validate on 17500 samples\n",
            "52500/52500 [==============================] - 13s 255us/sample - loss: 2.5533 - sparse_categorical_accuracy: 0.7498 - val_loss: 0.6652 - val_sparse_categorical_accuracy: 0.8377\n"
          ],
          "name": "stdout"
        },
        {
          "output_type": "execute_result",
          "data": {
            "text/plain": [
              "<tensorflow.python.keras.callbacks.History at 0x7fcbaccddc50>"
            ]
          },
          "metadata": {
            "tags": []
          },
          "execution_count": 85
        }
      ]
    },
    {
      "cell_type": "markdown",
      "metadata": {
        "id": "cYeZxwFF-qfz",
        "colab_type": "text"
      },
      "source": [
        "**Модель с Reversible блоком, где в конце выбирается 10 чисел из равномерной сетки:**"
      ]
    },
    {
      "cell_type": "code",
      "metadata": {
        "id": "0u-g4seN-qf1",
        "colab_type": "code",
        "colab": {}
      },
      "source": [
        "input_shape = X_train.shape[1:]\n",
        "filters = 32\n",
        "n_rev_blocks = 1\n",
        "n_classes = 10\n",
        "\n",
        "def build_model():\n",
        "    img_input = L.Input(input_shape)\n",
        "    x = init_block(img_input, filters)\n",
        "    for _ in range(n_rev_blocks):\n",
        "        x = rev_block(x, filters)\n",
        "    x = L.Flatten()(x)\n",
        "\n",
        "    positions = tf.range(0, x.shape[-1], x.shape[-1] // n_classes + 1)\n",
        "    x = tf.reshape(tf.convert_to_tensor([x[:, i] for i in positions]), (-1, n_classes))\n",
        "    x = L.Activation(\"softmax\")(x)\n",
        "\n",
        "    model = keras.Model(img_input, x)\n",
        "    return model"
      ],
      "execution_count": 0,
      "outputs": []
    },
    {
      "cell_type": "code",
      "metadata": {
        "id": "QiV71J6G-qf5",
        "colab_type": "code",
        "outputId": "b0b16e7e-aeca-48f6-cb63-4c5e1f4aebbf",
        "colab": {
          "base_uri": "https://localhost:8080/",
          "height": 1000
        }
      },
      "source": [
        "model = build_model()\n",
        "model.summary()"
      ],
      "execution_count": 16,
      "outputs": [
        {
          "output_type": "stream",
          "text": [
            "Model: \"model_3\"\n",
            "__________________________________________________________________________________________________\n",
            "Layer (type)                    Output Shape         Param #     Connected to                     \n",
            "==================================================================================================\n",
            "input_4 (InputLayer)            [(None, 28, 28, 3)]  0                                            \n",
            "__________________________________________________________________________________________________\n",
            "conv2d_15 (Conv2D)              (None, 28, 28, 32)   128         input_4[0][0]                    \n",
            "__________________________________________________________________________________________________\n",
            "tf_op_layer_split_3 (TensorFlow [(None, 28, 28, 16), 0           conv2d_15[0][0]                  \n",
            "__________________________________________________________________________________________________\n",
            "batch_normalization_12 (BatchNo (None, 28, 28, 16)   64          tf_op_layer_split_3[0][1]        \n",
            "__________________________________________________________________________________________________\n",
            "activation_17 (Activation)      (None, 28, 28, 16)   0           batch_normalization_12[0][0]     \n",
            "__________________________________________________________________________________________________\n",
            "conv2d_16 (Conv2D)              (None, 28, 28, 16)   2320        activation_17[0][0]              \n",
            "__________________________________________________________________________________________________\n",
            "batch_normalization_13 (BatchNo (None, 28, 28, 16)   64          conv2d_16[0][0]                  \n",
            "__________________________________________________________________________________________________\n",
            "activation_18 (Activation)      (None, 28, 28, 16)   0           batch_normalization_13[0][0]     \n",
            "__________________________________________________________________________________________________\n",
            "conv2d_17 (Conv2D)              (None, 28, 28, 16)   2320        activation_18[0][0]              \n",
            "__________________________________________________________________________________________________\n",
            "tf_op_layer_add_6 (TensorFlowOp [(None, 28, 28, 16)] 0           conv2d_17[0][0]                  \n",
            "                                                                 tf_op_layer_split_3[0][0]        \n",
            "__________________________________________________________________________________________________\n",
            "batch_normalization_14 (BatchNo (None, 28, 28, 16)   64          tf_op_layer_add_6[0][0]          \n",
            "__________________________________________________________________________________________________\n",
            "activation_19 (Activation)      (None, 28, 28, 16)   0           batch_normalization_14[0][0]     \n",
            "__________________________________________________________________________________________________\n",
            "conv2d_18 (Conv2D)              (None, 28, 28, 16)   2320        activation_19[0][0]              \n",
            "__________________________________________________________________________________________________\n",
            "batch_normalization_15 (BatchNo (None, 28, 28, 16)   64          conv2d_18[0][0]                  \n",
            "__________________________________________________________________________________________________\n",
            "activation_20 (Activation)      (None, 28, 28, 16)   0           batch_normalization_15[0][0]     \n",
            "__________________________________________________________________________________________________\n",
            "conv2d_19 (Conv2D)              (None, 28, 28, 16)   2320        activation_20[0][0]              \n",
            "__________________________________________________________________________________________________\n",
            "tf_op_layer_add_7 (TensorFlowOp [(None, 28, 28, 16)] 0           conv2d_19[0][0]                  \n",
            "                                                                 tf_op_layer_split_3[0][1]        \n",
            "__________________________________________________________________________________________________\n",
            "tf_op_layer_concat_3 (TensorFlo [(None, 28, 28, 32)] 0           tf_op_layer_add_6[0][0]          \n",
            "                                                                 tf_op_layer_add_7[0][0]          \n",
            "__________________________________________________________________________________________________\n",
            "flatten_3 (Flatten)             (None, 25088)        0           tf_op_layer_concat_3[0][0]       \n",
            "__________________________________________________________________________________________________\n",
            "tf_op_layer_strided_slice_10 (T [(None,)]            0           flatten_3[0][0]                  \n",
            "__________________________________________________________________________________________________\n",
            "tf_op_layer_strided_slice_11 (T [(None,)]            0           flatten_3[0][0]                  \n",
            "__________________________________________________________________________________________________\n",
            "tf_op_layer_strided_slice_12 (T [(None,)]            0           flatten_3[0][0]                  \n",
            "__________________________________________________________________________________________________\n",
            "tf_op_layer_strided_slice_13 (T [(None,)]            0           flatten_3[0][0]                  \n",
            "__________________________________________________________________________________________________\n",
            "tf_op_layer_strided_slice_14 (T [(None,)]            0           flatten_3[0][0]                  \n",
            "__________________________________________________________________________________________________\n",
            "tf_op_layer_strided_slice_15 (T [(None,)]            0           flatten_3[0][0]                  \n",
            "__________________________________________________________________________________________________\n",
            "tf_op_layer_strided_slice_16 (T [(None,)]            0           flatten_3[0][0]                  \n",
            "__________________________________________________________________________________________________\n",
            "tf_op_layer_strided_slice_17 (T [(None,)]            0           flatten_3[0][0]                  \n",
            "__________________________________________________________________________________________________\n",
            "tf_op_layer_strided_slice_18 (T [(None,)]            0           flatten_3[0][0]                  \n",
            "__________________________________________________________________________________________________\n",
            "tf_op_layer_strided_slice_19 (T [(None,)]            0           flatten_3[0][0]                  \n",
            "__________________________________________________________________________________________________\n",
            "tf_op_layer_packed_1 (TensorFlo [(10, None)]         0           tf_op_layer_strided_slice_10[0][0\n",
            "                                                                 tf_op_layer_strided_slice_11[0][0\n",
            "                                                                 tf_op_layer_strided_slice_12[0][0\n",
            "                                                                 tf_op_layer_strided_slice_13[0][0\n",
            "                                                                 tf_op_layer_strided_slice_14[0][0\n",
            "                                                                 tf_op_layer_strided_slice_15[0][0\n",
            "                                                                 tf_op_layer_strided_slice_16[0][0\n",
            "                                                                 tf_op_layer_strided_slice_17[0][0\n",
            "                                                                 tf_op_layer_strided_slice_18[0][0\n",
            "                                                                 tf_op_layer_strided_slice_19[0][0\n",
            "__________________________________________________________________________________________________\n",
            "tf_op_layer_Reshape_1 (TensorFl [(None, 10)]         0           tf_op_layer_packed_1[0][0]       \n",
            "__________________________________________________________________________________________________\n",
            "activation_21 (Activation)      (None, 10)           0           tf_op_layer_Reshape_1[0][0]      \n",
            "==================================================================================================\n",
            "Total params: 9,664\n",
            "Trainable params: 9,536\n",
            "Non-trainable params: 128\n",
            "__________________________________________________________________________________________________\n"
          ],
          "name": "stdout"
        }
      ]
    },
    {
      "cell_type": "markdown",
      "metadata": {
        "id": "wnEnlSFkHQMk",
        "colab_type": "text"
      },
      "source": [
        "**Переобучение модели на маленьком батче:**"
      ]
    },
    {
      "cell_type": "code",
      "metadata": {
        "id": "97YibSkyHPNV",
        "colab_type": "code",
        "outputId": "ff35f40a-94b0-4f53-981c-f62bd1b4f8e4",
        "colab": {
          "base_uri": "https://localhost:8080/",
          "height": 1000
        }
      },
      "source": [
        "model = build_model()\n",
        "\n",
        "adam = keras.optimizers.Adam()\n",
        "model.compile(optimizer=adam,\n",
        "              loss='sparse_categorical_crossentropy',\n",
        "              metrics=['sparse_categorical_accuracy'])\n",
        "\n",
        "model.fit(X_train[:32], y_train[:32],\n",
        "          batch_size=32, epochs=40,)"
      ],
      "execution_count": 0,
      "outputs": [
        {
          "output_type": "stream",
          "text": [
            "Train on 32 samples\n",
            "Epoch 1/40\n",
            "32/32 [==============================] - 1s 31ms/sample - loss: 36.3624 - sparse_categorical_accuracy: 0.0938\n",
            "Epoch 2/40\n",
            "32/32 [==============================] - 0s 402us/sample - loss: 35.5335 - sparse_categorical_accuracy: 0.0625\n",
            "Epoch 3/40\n",
            "32/32 [==============================] - 0s 351us/sample - loss: 34.6310 - sparse_categorical_accuracy: 0.1562\n",
            "Epoch 4/40\n",
            "32/32 [==============================] - 0s 382us/sample - loss: 30.1114 - sparse_categorical_accuracy: 0.1250\n",
            "Epoch 5/40\n",
            "32/32 [==============================] - 0s 356us/sample - loss: 26.2750 - sparse_categorical_accuracy: 0.2812\n",
            "Epoch 6/40\n",
            "32/32 [==============================] - 0s 346us/sample - loss: 26.6770 - sparse_categorical_accuracy: 0.0938\n",
            "Epoch 7/40\n",
            "32/32 [==============================] - 0s 326us/sample - loss: 15.6507 - sparse_categorical_accuracy: 0.0312\n",
            "Epoch 8/40\n",
            "32/32 [==============================] - 0s 313us/sample - loss: 29.8816 - sparse_categorical_accuracy: 0.0625\n",
            "Epoch 9/40\n",
            "32/32 [==============================] - 0s 334us/sample - loss: 31.9333 - sparse_categorical_accuracy: 0.0625\n",
            "Epoch 10/40\n",
            "32/32 [==============================] - 0s 319us/sample - loss: 35.9115 - sparse_categorical_accuracy: 0.1250\n",
            "Epoch 11/40\n",
            "32/32 [==============================] - 0s 321us/sample - loss: 33.0287 - sparse_categorical_accuracy: 0.0625\n",
            "Epoch 12/40\n",
            "32/32 [==============================] - 0s 329us/sample - loss: 28.0229 - sparse_categorical_accuracy: 0.0938\n",
            "Epoch 13/40\n",
            "32/32 [==============================] - 0s 330us/sample - loss: 24.3684 - sparse_categorical_accuracy: 0.1875\n",
            "Epoch 14/40\n",
            "32/32 [==============================] - 0s 334us/sample - loss: 31.0868 - sparse_categorical_accuracy: 0.0938\n",
            "Epoch 15/40\n",
            "32/32 [==============================] - 0s 337us/sample - loss: 32.0386 - sparse_categorical_accuracy: 0.0938\n",
            "Epoch 16/40\n",
            "32/32 [==============================] - 0s 327us/sample - loss: 23.8688 - sparse_categorical_accuracy: 0.0312\n",
            "Epoch 17/40\n",
            "32/32 [==============================] - 0s 321us/sample - loss: 28.4911 - sparse_categorical_accuracy: 0.1250\n",
            "Epoch 18/40\n",
            "32/32 [==============================] - 0s 386us/sample - loss: 22.9465 - sparse_categorical_accuracy: 0.1875\n",
            "Epoch 19/40\n",
            "32/32 [==============================] - 0s 382us/sample - loss: 22.3587 - sparse_categorical_accuracy: 0.0312\n",
            "Epoch 20/40\n",
            "32/32 [==============================] - 0s 335us/sample - loss: 24.7694 - sparse_categorical_accuracy: 0.0938\n",
            "Epoch 21/40\n",
            "32/32 [==============================] - 0s 364us/sample - loss: 27.7988 - sparse_categorical_accuracy: 0.1250\n",
            "Epoch 22/40\n",
            "32/32 [==============================] - 0s 304us/sample - loss: 29.9139 - sparse_categorical_accuracy: 0.1875\n",
            "Epoch 23/40\n",
            "32/32 [==============================] - 0s 447us/sample - loss: 28.3415 - sparse_categorical_accuracy: 0.1250\n",
            "Epoch 24/40\n",
            "32/32 [==============================] - 0s 326us/sample - loss: 19.5183 - sparse_categorical_accuracy: 0.1875\n",
            "Epoch 25/40\n",
            "32/32 [==============================] - 0s 330us/sample - loss: 20.7937 - sparse_categorical_accuracy: 0.1562\n",
            "Epoch 26/40\n",
            "32/32 [==============================] - 0s 322us/sample - loss: 27.2161 - sparse_categorical_accuracy: 0.2188\n",
            "Epoch 27/40\n",
            "32/32 [==============================] - 0s 338us/sample - loss: 21.6700 - sparse_categorical_accuracy: 0.2188\n",
            "Epoch 28/40\n",
            "32/32 [==============================] - 0s 319us/sample - loss: 25.5172 - sparse_categorical_accuracy: 0.0625\n",
            "Epoch 29/40\n",
            "32/32 [==============================] - 0s 458us/sample - loss: 20.1128 - sparse_categorical_accuracy: 0.1562\n",
            "Epoch 30/40\n",
            "32/32 [==============================] - 0s 399us/sample - loss: 27.1565 - sparse_categorical_accuracy: 0.1250\n",
            "Epoch 31/40\n",
            "32/32 [==============================] - 0s 330us/sample - loss: 13.8644 - sparse_categorical_accuracy: 0.1875\n",
            "Epoch 32/40\n",
            "32/32 [==============================] - 0s 450us/sample - loss: 26.6512 - sparse_categorical_accuracy: 0.0625\n",
            "Epoch 33/40\n",
            "32/32 [==============================] - 0s 286us/sample - loss: 28.5575 - sparse_categorical_accuracy: 0.0938\n",
            "Epoch 34/40\n",
            "32/32 [==============================] - 0s 332us/sample - loss: 30.7326 - sparse_categorical_accuracy: 0.0625\n",
            "Epoch 35/40\n",
            "32/32 [==============================] - 0s 408us/sample - loss: 25.4578 - sparse_categorical_accuracy: 0.1250\n",
            "Epoch 36/40\n",
            "32/32 [==============================] - 0s 363us/sample - loss: 25.8320 - sparse_categorical_accuracy: 0.0938\n",
            "Epoch 37/40\n",
            "32/32 [==============================] - 0s 349us/sample - loss: 26.1696 - sparse_categorical_accuracy: 0.0625\n",
            "Epoch 38/40\n",
            "32/32 [==============================] - 0s 371us/sample - loss: 22.9316 - sparse_categorical_accuracy: 0.0625\n",
            "Epoch 39/40\n",
            "32/32 [==============================] - 0s 391us/sample - loss: 27.7893 - sparse_categorical_accuracy: 0.1562\n",
            "Epoch 40/40\n",
            "32/32 [==============================] - 0s 349us/sample - loss: 21.7020 - sparse_categorical_accuracy: 0.1250\n"
          ],
          "name": "stdout"
        },
        {
          "output_type": "execute_result",
          "data": {
            "text/plain": [
              "<tensorflow.python.keras.callbacks.History at 0x7fceb06e6ef0>"
            ]
          },
          "metadata": {
            "tags": []
          },
          "execution_count": 36
        }
      ]
    },
    {
      "cell_type": "markdown",
      "metadata": {
        "id": "2E5KoF3iqe6M",
        "colab_type": "text"
      },
      "source": [
        "**На всех данных:**"
      ]
    },
    {
      "cell_type": "code",
      "metadata": {
        "id": "bHUoj6_q-qgC",
        "colab_type": "code",
        "outputId": "a21045e4-5199-4fa4-84fa-1dce03098351",
        "colab": {
          "base_uri": "https://localhost:8080/",
          "height": 323
        }
      },
      "source": [
        "model = build_model()\n",
        "\n",
        "adam = keras.optimizers.Adam()\n",
        "model.compile(optimizer=adam,\n",
        "              loss='sparse_categorical_crossentropy',\n",
        "              metrics=['sparse_categorical_accuracy'])\n",
        "\n",
        "model.fit(X_train, y_train,\n",
        "          batch_size=32, epochs=8, \n",
        "          validation_data=(X_test, y_test))"
      ],
      "execution_count": 0,
      "outputs": [
        {
          "output_type": "stream",
          "text": [
            "Train on 52500 samples, validate on 17500 samples\n",
            "Epoch 1/8\n",
            "52500/52500 [==============================] - 13s 239us/sample - loss: 2.8786 - sparse_categorical_accuracy: 0.1002 - val_loss: 2.3615 - val_sparse_categorical_accuracy: 0.1015\n",
            "Epoch 2/8\n",
            "52500/52500 [==============================] - 11s 219us/sample - loss: 2.3411 - sparse_categorical_accuracy: 0.0995 - val_loss: 2.3501 - val_sparse_categorical_accuracy: 0.1008\n",
            "Epoch 3/8\n",
            "52500/52500 [==============================] - 11s 219us/sample - loss: 2.3390 - sparse_categorical_accuracy: 0.0984 - val_loss: 2.3363 - val_sparse_categorical_accuracy: 0.1019\n",
            "Epoch 4/8\n",
            "52500/52500 [==============================] - 12s 221us/sample - loss: 2.3364 - sparse_categorical_accuracy: 0.1010 - val_loss: 2.3389 - val_sparse_categorical_accuracy: 0.1045\n",
            "Epoch 5/8\n",
            "52500/52500 [==============================] - 11s 219us/sample - loss: 2.3341 - sparse_categorical_accuracy: 0.1025 - val_loss: 2.3348 - val_sparse_categorical_accuracy: 0.1013\n",
            "Epoch 6/8\n",
            "52500/52500 [==============================] - 11s 218us/sample - loss: 2.3330 - sparse_categorical_accuracy: 0.1005 - val_loss: 2.3242 - val_sparse_categorical_accuracy: 0.1010\n",
            "Epoch 7/8\n",
            "52500/52500 [==============================] - 11s 218us/sample - loss: 2.3302 - sparse_categorical_accuracy: 0.1014 - val_loss: 2.3236 - val_sparse_categorical_accuracy: 0.1036\n",
            "Epoch 8/8\n",
            "52500/52500 [==============================] - 12s 219us/sample - loss: 2.3310 - sparse_categorical_accuracy: 0.1009 - val_loss: 2.3239 - val_sparse_categorical_accuracy: 0.1032\n"
          ],
          "name": "stdout"
        },
        {
          "output_type": "execute_result",
          "data": {
            "text/plain": [
              "<tensorflow.python.keras.callbacks.History at 0x7fce1fa790b8>"
            ]
          },
          "metadata": {
            "tags": []
          },
          "execution_count": 268
        }
      ]
    },
    {
      "cell_type": "markdown",
      "metadata": {
        "id": "o34kVmutqhkF",
        "colab_type": "text"
      },
      "source": [
        "**LR range test:**"
      ]
    },
    {
      "cell_type": "code",
      "metadata": {
        "id": "QR4ne5h9mcEK",
        "colab_type": "code",
        "outputId": "04f5c910-e852-49b8-fca0-9e452f727e75",
        "colab": {
          "base_uri": "https://localhost:8080/",
          "height": 539
        }
      },
      "source": [
        "model = build_model()\n",
        "\n",
        "model.compile(optimizer=keras.optimizers.SGD(),\n",
        "              loss='sparse_categorical_crossentropy',\n",
        "              metrics=['sparse_categorical_accuracy'])\n",
        "\n",
        "lr_finder = LRFinder(model)\n",
        "lr_finder.find(X_train, y_train, start_lr=0.0001, end_lr=100, batch_size=512, epochs=1)\n",
        "lr_finder.plot_loss(n_skip_beginning=1, n_skip_end=1, y_lim=(0, 25))\n",
        "plt.show()"
      ],
      "execution_count": 0,
      "outputs": [
        {
          "output_type": "stream",
          "text": [
            "Train on 52500 samples\n",
            "41472/52500 [======================>.......] - ETA: 1s - loss: 472.2243 - sparse_categorical_accuracy: 0.0996"
          ],
          "name": "stdout"
        },
        {
          "output_type": "display_data",
          "data": {
            "image/png": "[encoded data removed]",
            "text/plain": [
              "<Figure size 864x576 with 1 Axes>"
            ]
          },
          "metadata": {
            "tags": []
          }
        }
      ]
    },
    {
      "cell_type": "code",
      "metadata": {
        "id": "Ph8SKcEEmoVV",
        "colab_type": "code",
        "outputId": "fe82f107-8eeb-43dc-c6f8-8ecdc390fc6f",
        "colab": {
          "base_uri": "https://localhost:8080/",
          "height": 323
        }
      },
      "source": [
        "model = build_model()\n",
        "\n",
        "model.compile(optimizer=keras.optimizers.SGD(1e-3),\n",
        "              loss='sparse_categorical_crossentropy',\n",
        "              metrics=['sparse_categorical_accuracy'])\n",
        "\n",
        "model.fit(X_train, y_train,\n",
        "          batch_size=32, epochs=8, \n",
        "          validation_data=(X_test, y_test))"
      ],
      "execution_count": 0,
      "outputs": [
        {
          "output_type": "stream",
          "text": [
            "Train on 52500 samples, validate on 17500 samples\n",
            "Epoch 1/8\n",
            "52500/52500 [==============================] - 12s 230us/sample - loss: 3.4716 - sparse_categorical_accuracy: 0.1003 - val_loss: 3.8311 - val_sparse_categorical_accuracy: 0.0994\n",
            "Epoch 2/8\n",
            "52500/52500 [==============================] - 11s 211us/sample - loss: 3.2511 - sparse_categorical_accuracy: 0.0980 - val_loss: 4.5026 - val_sparse_categorical_accuracy: 0.0989\n",
            "Epoch 3/8\n",
            "52500/52500 [==============================] - 11s 210us/sample - loss: 3.2418 - sparse_categorical_accuracy: 0.0996 - val_loss: 3.2410 - val_sparse_categorical_accuracy: 0.0984\n",
            "Epoch 4/8\n",
            "52500/52500 [==============================] - 11s 210us/sample - loss: 3.1874 - sparse_categorical_accuracy: 0.1004 - val_loss: 3.8680 - val_sparse_categorical_accuracy: 0.0993\n",
            "Epoch 5/8\n",
            "52500/52500 [==============================] - 11s 210us/sample - loss: 3.2906 - sparse_categorical_accuracy: 0.1005 - val_loss: 2.6657 - val_sparse_categorical_accuracy: 0.0997\n",
            "Epoch 6/8\n",
            "52500/52500 [==============================] - 11s 211us/sample - loss: 3.1926 - sparse_categorical_accuracy: 0.0999 - val_loss: 3.3589 - val_sparse_categorical_accuracy: 0.0990\n",
            "Epoch 7/8\n",
            "52500/52500 [==============================] - 11s 211us/sample - loss: 3.2224 - sparse_categorical_accuracy: 0.1002 - val_loss: 2.9876 - val_sparse_categorical_accuracy: 0.0993\n",
            "Epoch 8/8\n",
            "52500/52500 [==============================] - 11s 214us/sample - loss: 3.2415 - sparse_categorical_accuracy: 0.0981 - val_loss: 3.1009 - val_sparse_categorical_accuracy: 0.0986\n"
          ],
          "name": "stdout"
        },
        {
          "output_type": "execute_result",
          "data": {
            "text/plain": [
              "<tensorflow.python.keras.callbacks.History at 0x7fce245b1ac8>"
            ]
          },
          "metadata": {
            "tags": []
          },
          "execution_count": 278
        }
      ]
    },
    {
      "cell_type": "markdown",
      "metadata": {
        "id": "sgOnT2u3qkbo",
        "colab_type": "text"
      },
      "source": [
        "**Статистики:**"
      ]
    },
    {
      "cell_type": "code",
      "metadata": {
        "id": "Bn9Tcrf6Do3G",
        "colab_type": "code",
        "outputId": "2459cc04-a7d5-41b1-ce5c-718da2d77496",
        "colab": {
          "base_uri": "https://localhost:8080/",
          "height": 578
        }
      },
      "source": [
        "count_output_stats(model, X_train[:32])"
      ],
      "execution_count": 0,
      "outputs": [
        {
          "output_type": "stream",
          "text": [
            "Layer_name     Mean      Std     AbsMax\n",
            "input_29 33.669403 78.76575 255.0\n",
            "conv2d_140 4.231854 29.188667 210.1025\n",
            "tf_op_layer_split_28 4.231854 29.188667 210.1025\n",
            "batch_normalization_112 -0.060708497 1.01179 4.95125\n",
            "activation_163 0.28781343 0.6900325 2.853308\n",
            "conv2d_141 -0.15365316 0.9361949 5.795438\n",
            "batch_normalization_113 -0.1363029 0.9564958 5.326945\n",
            "activation_164 0.2682067 0.480782 4.5242367\n",
            "conv2d_142 0.050192434 0.49655452 4.2259264\n",
            "tf_op_layer_add_56 3.7044044 27.961082 196.4603\n",
            "batch_normalization_114 0.013626135 0.9481851 3.6829545\n",
            "activation_165 0.32152814 0.66628516 3.3332853\n",
            "conv2d_143 0.06382023 0.87668425 5.9434075\n",
            "batch_normalization_115 -0.0071410853 0.93496156 5.801188\n",
            "activation_166 0.32338476 0.619174 5.801188\n",
            "conv2d_144 -0.053391617 0.6353927 4.3104606\n",
            "tf_op_layer_add_57 4.756104 30.14578 209.5515\n",
            "tf_op_layer_concat_28 4.2302537 29.078714 209.5515\n",
            "flatten_28 4.2302537 29.078714 209.5515\n",
            "tf_op_layer_strided_slice_50 0.0699166 0.0 0.0699166\n",
            "tf_op_layer_strided_slice_51 0.26468927 0.020386474 0.3780875\n",
            "tf_op_layer_strided_slice_52 -3.9262862 5.151055 12.210673\n",
            "tf_op_layer_strided_slice_53 1.652812 1.7917815 4.1538424\n",
            "tf_op_layer_strided_slice_54 -0.23318125 0.674165 3.43379\n",
            "tf_op_layer_strided_slice_55 0.32106164 0.0 0.32106164\n",
            "tf_op_layer_strided_slice_56 -0.41378894 1.6264856 4.0039225\n",
            "tf_op_layer_strided_slice_57 -3.0676367 3.6280813 8.206318\n",
            "tf_op_layer_strided_slice_58 0.020501189 0.34784484 0.7425924\n",
            "tf_op_layer_strided_slice_59 0.08809745 0.042201024 0.25374326\n",
            "tf_op_layer_packed_5 -0.5223814 2.6715324 12.210673\n",
            "tf_op_layer_Reshape_5 -0.5223814 2.6715324 12.210673\n",
            "activation_167 0.1 0.07477676 0.8450352\n"
          ],
          "name": "stdout"
        }
      ]
    },
    {
      "cell_type": "markdown",
      "metadata": {
        "id": "ml5niPHjsvGi",
        "colab_type": "text"
      },
      "source": [
        "В данной моделе видно, что она не может обучиться даже на маленьком батче, нужно исправлять модель."
      ]
    }
  ]
}